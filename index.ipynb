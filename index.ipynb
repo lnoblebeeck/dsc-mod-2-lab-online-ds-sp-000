{
 "cells": [
  {
   "cell_type": "markdown",
   "metadata": {},
   "source": [
    "# Module 2 Summative Lab\n",
    "\n",
    "## Introduction\n",
    "\n",
    "For today's section, we're going to work on a single big lab to apply everything we've learned in Mod 2!\n",
    "\n",
    "## About This Lab\n",
    "\n",
    "A quick note before getting started--this lab isn't like other labs you seen so far. This lab is meant to take ~8 hours to complete, so it's much longer and more challenging than the average labs you've seen so far. If you feel like this lab is challenging or that you might be struggling a bit, don't fret--that's by design! With everything we've learned about Web Scraping, APIs, and Databases, the best way to test our knowledge of it is to build something substantial! \n",
    "\n",
    "## The Project\n",
    "\n",
    "In this lab, we're going to make use of everything we've learned about APIs, databases, and Object-Oriented Programming to **_Extract, Transform, and Load_** (or **_ETL_**, for short) some data from a SQL database into a MongoDB Database. \n",
    "\n",
    "You'll find a database containing information about soccer teams and the matches they've played in the file `database.sqlite`. For this project, our goal is to get the data we think is important from this SQL database, do some calculations and data transformation, and then store everything in a MongoDB database. \n",
    "\n",
    "Let's get into the specifics of this project.\n",
    "\n",
    "### The Goal\n",
    "\n",
    "Start by examining the data dictionary for the SQL database we'll be working with, which comes from this [kaggle page](https://www.kaggle.com/laudanum/footballdelphi).  Familiarize yourself with the tables it contains, and what each column means. We'll be using this database to get data on each soccer team, calculate some summary statistics, and then store each in a MongoDB database. \n",
    "\n",
    "Upon completion of this lab, each unique team in this dataset should have a record in the MongoDB instance containing the following information:\n",
    "\n",
    "* The name of the team\n",
    "* The total number of goals scored by the team during the 2011 season\n",
    "* The total number of wins the team earned during the 2011 season\n",
    "* A histogram visualization of the team's wins and losses for the 2011 season (store the visualization directly by assigning it to a variable)\n",
    "* The team's win percentage on days where it was raining during games in the 2011 season. \n",
    "\n",
    "#### Getting the Weather Data\n",
    "\n",
    "Note that for this last calculation, you'll need to figure out if it was raining or not during the game. The database itself does not contain this information, but it does contain the date on which the game was played. For this, you'll need to use the [DarkSky API](https://darksky.net/dev) to get the historical weather data for that day. Note that each game is played in a different location, and this information is not contained in our SQL database. However, the teams in this database are largely german, so go ahead and just use the weather in Berlin, Germany as a proxy for this information. If it was raining in Berlin on the day the game was played, count that as rain game--**_you do not need to try and figure out the actual weather at each game's location, because we don't have that information!_**\n",
    "\n",
    "#### NOTE: The DarkSky API is limited to 1000 free API calls a day, so be sure to test your model on very small samples. Otherwise, you'll hit the rate limit!\n",
    "\n",
    "## Project Architecture\n",
    "\n",
    "Unlike previous labs, this lab is more open-ended, and will require you to make design decisions and plan out your strategy for building a system with this many working parts. However, **_using Object-Oriented Programming is a requirement for this project--you must create at least 2 separate, well-structured classes in your solution!_** Although it may seem easier to \"just start coding\", this is a classic beginner's mistake. Instead, think about separating out the different functionalities you'll need to reach your goal, and then build classes to handle each. For instance, at a minimum, you'll need to:\n",
    "\n",
    "* Query the SQL database\n",
    "* Calculate summary statistics\n",
    "* Get the weather data from the DarkSky API\n",
    "* Load the data into MongoDB\n",
    "\n",
    "We **_strongly recommend_** you consider creating separate classes for handling at least some of these tasks.  Be sure to plan the inputs, outputs, and methods for each class before you begin coding! \n",
    "\n",
    "**_NOTE:_** We have provided some empty classes below. You are welcome to delete them and use a different architecture for this project if you so choose.  You do not have to use each of them, they are just there to give you an idea of what sorts of classes you may want to consider using.\n",
    "\n",
    "### Rapid Prototyping and Refactoring\n",
    "\n",
    "It's totally okay to try to get a task working without using OOP. For instance, when experimenting with the DarkSky API for getting historical weather data, it makes sense to just write the code in the cells and rapidly iterate until you get it all working. However, once you get it working, you're not done--you should then **_Refactor_** your code into functions or classes to make your code more modular, reusable, understandable, and maintainable! \n",
    "\n",
    "In short--do what you need to do to get each separate piece of functionality working, and then refactor it into a class after you've figured it out!\n",
    "\n",
    "### Some Final Advice\n",
    "\n",
    "You haven't built anything this big or complex thus far, so you may not yet fully realize how much trial and error goes into it. If your code keeps breaking, resist the urge to get frustrated, and just keep working. Software development is an iterative process!  No one writes perfect code that works the first time for something this involved. You're going to run into _a lot_ of small errors in this project, right up until the point where it just works, and then you're done! However, you can reduce these errors by planning out your code, and thinking about how all of the pieces fit together before you begin coding. Once you have some basic understanding of how it all will work, then you'll know what you need to build, and then all that is left is to build it!\n",
    "\n",
    "In short:\n",
    "\n",
    "* Plan ahead--you'll thank yourself later!\n",
    "* Errors and broken code aren't bad, they're normal. \n",
    "* Keep working, and stay confident--you can do this!\n",
    "\n",
    "Good luck--we look forward to seeing your completed project!"
   ]
  },
  {
   "cell_type": "code",
   "execution_count": 1,
   "metadata": {},
   "outputs": [],
   "source": [
    "# Importing necessary Libraries\n",
    "import json\n",
    "import requests\n",
    "import sqlite3\n",
    "import pandas as pd\n",
    "import numpy as np\n",
    "import pymongo\n",
    "import datetime"
   ]
  },
  {
   "cell_type": "code",
   "execution_count": 2,
   "metadata": {},
   "outputs": [],
   "source": [
    "def get_keys(path):\n",
    "    with open(path) as f:\n",
    "        return json.load(f)"
   ]
  },
  {
   "cell_type": "markdown",
   "metadata": {},
   "source": [
    " # Exploring the Api data structure"
   ]
  },
  {
   "cell_type": "code",
   "execution_count": 122,
   "metadata": {
    "scrolled": true
   },
   "outputs": [
    {
     "name": "stdout",
     "output_type": "stream",
     "text": [
      "2011-07-16\n"
     ]
    }
   ],
   "source": [
    "#Explore the API\n",
    "date = \"2011-07-16\"\n",
    "year = \"2011\"\n",
    "month = \"07\"\n",
    "day = \"16\"\n",
    "\n",
    "print(date)"
   ]
  },
  {
   "cell_type": "code",
   "execution_count": 123,
   "metadata": {},
   "outputs": [
    {
     "data": {
      "text/plain": [
       "'2011-07-16T12:00:00'"
      ]
     },
     "execution_count": 123,
     "metadata": {},
     "output_type": "execute_result"
    }
   ],
   "source": [
    "date = \"{}-{}-{}T12:00:00\".format(year, month, day)\n",
    "date"
   ]
  },
  {
   "cell_type": "code",
   "execution_count": 124,
   "metadata": {},
   "outputs": [],
   "source": [
    "berlin_lat = \"52.5200\"\n",
    "berlin_long = \"13.4050\""
   ]
  },
  {
   "cell_type": "markdown",
   "metadata": {},
   "source": [
    "### Structuring the API URL"
   ]
  },
  {
   "cell_type": "code",
   "execution_count": 125,
   "metadata": {
    "scrolled": true
   },
   {
   "source": [
    "url_base = \"https://api.darksky.net/forecast\"\n",
    "keys = get_keys(\"/Users/Lucas/.secret/API/darksky_api.json\")\n",
    "api_key = keys['api_key']\n",
    "exclude = 'currently,flags,minutely,hourly,alerts'\n",
    "final_url = \"{}/{}/{},{},{}?exclude={}\".format(url_base,api_key,berlin_lat,berlin_long,date,exclude)\n",
    "print(str(final_url))"
   ]
  },
  {
   "cell_type": "markdown",
   "metadata": {},
   "source": [
    "### Testing the API Call"
   ]
  },
  {
   "cell_type": "code",
   "execution_count": 126,
   "metadata": {
    "scrolled": true
   },
   "outputs": [
    {
     "name": "stdout",
     "output_type": "stream",
     "text": [
      "<Response [200]>\n",
      "<class 'str'>\n",
      "{\"latitude\":52.52,\"longitude\":13.405,\"timezone\":\"Europe/Berlin\",\"daily\":{\"data\":[{\"time\":1310767200,\"sunriseTime\":1310785440,\"sunsetTime\":1310844180,\"moonPhase\":0.55,\"precipIntensity\":0,\"precipIntensityMax\":0,\"precipProbability\":0,\"temperatureHigh\":77.98,\"temperatureHighTime\":1310826060,\"temperatureLow\":62.22,\"temperatureLowTime\":1310871360,\"apparentTemperatureHigh\":77.48,\"apparentTemperatureHighTime\":1310826060,\"apparentTemperatureLow\":62.71,\"apparentTemperatureLowTime\":1310871360,\"dewPoint\":48.77,\"humidity\":0.57,\"windSpeed\":6.77,\"windGust\":13,\"windGustTime\":1310767200,\"windBearing\":223,\"uvIndex\":7,\"uvIndexTime\":1310814000,\"visibility\":6.208,\"temperatureMin\":52.8,\"temperatureMinTime\":1310787240,\"temperatureMax\":77.98,\"temperatureMaxTime\":1310826060,\"apparentTemperatureMin\":53.29,\"apparentTemperatureMinTime\":1310787240,\"apparentTemperatureMax\":77.48,\"apparentTemperatureMaxTime\":1310826060}]},\"offset\":2}\n",
      "\n"
     ]
    }
   ],
   "source": [
    "\n",
    "response = requests.get(final_url)\n",
    "print(response)\n",
    "print(type(response.text))\n",
    "print(response.text[:1000])"
   ]
  },
  {
   "cell_type": "markdown",
   "metadata": {},
   "source": [
    "### Exploring the DATA"
   ]
  },
  {
   "cell_type": "code",
   "execution_count": 127,
   "metadata": {
    "scrolled": true
   },
   "outputs": [
    {
     "data": {
      "text/plain": [
       "dict_keys(['latitude', 'longitude', 'timezone', 'daily', 'offset'])"
      ]
     },
     "execution_count": 127,
     "metadata": {},
     "output_type": "execute_result"
    }
   ],
   "source": [
    "response.json().keys()"
   ]
  },
  {
   "cell_type": "code",
   "execution_count": 128,
   "metadata": {},
   "outputs": [],
   "source": [
    "data2 = response.text"
   ]
  },
  {
   "cell_type": "code",
   "execution_count": 129,
   "metadata": {},
   "outputs": [
    {
     "data": {
      "text/plain": [
       "'{\"latitude\":52.52,\"longitude\":13.405,\"timezone\":\"Europe/Berlin\",\"daily\":{\"data\":[{\"time\":1310767200,\"sunriseTime\":1310785440,\"sunsetTime\":1310844180,\"moonPhase\":0.55,\"precipIntensity\":0,\"precipIntensityMax\":0,\"precipProbability\":0,\"temperatureHigh\":77.98,\"temperatureHighTime\":1310826060,\"temperatureLow\":62.22,\"temperatureLowTime\":1310871360,\"apparentTemperatureHigh\":77.48,\"apparentTemperatureHighTime\":1310826060,\"apparentTemperatureLow\":62.71,\"apparentTemperatureLowTime\":1310871360,\"dewPoint\":48.77,\"humidity\":0.57,\"windSpeed\":6.77,\"windGust\":13,\"windGustTime\":1310767200,\"windBearing\":223,\"uvIndex\":7,\"uvIndexTime\":1310814000,\"visibility\":6.208,\"temperatureMin\":52.8,\"temperatureMinTime\":1310787240,\"temperatureMax\":77.98,\"temperatureMaxTime\":1310826060,\"apparentTemperatureMin\":53.29,\"apparentTemperatureMinTime\":1310787240,\"apparentTemperatureMax\":77.48,\"apparentTemperatureMaxTime\":1310826060}]},\"offset\":2}\\n'"
      ]
     },
     "execution_count": 129,
     "metadata": {},
     "output_type": "execute_result"
    }
   ],
   "source": [
    "data2"
   ]
  },
  {
   "cell_type": "code",
   "execution_count": 130,
   "metadata": {
    "scrolled": false
   },
   "outputs": [
    {
     "name": "stdout",
     "output_type": "stream",
     "text": [
      "latitude\n",
      "<class 'float'>\n",
      "\n",
      "\n",
      "\n",
      "longitude\n",
      "<class 'float'>\n",
      "\n",
      "\n",
      "\n",
      "timezone\n",
      "<class 'str'>\n",
      "\n",
      "\n",
      "\n",
      "daily\n",
      "<class 'dict'>\n",
      "\n",
      "\n",
      "\n",
      "offset\n",
      "<class 'int'>\n",
      "\n",
      "\n",
      "\n"
     ]
    }
   ],
   "source": [
    "for key in response.json().keys():\n",
    "    print(key)\n",
    "    value = response.json()[key] #Use standard dictionary formatting\n",
    "    print(type(value)) #What type is it?\n",
    "    print('\\n\\n')"
   ]
  },
  {
   "cell_type": "code",
   "execution_count": 131,
   "metadata": {},
   "outputs": [
    {
     "data": {
      "text/plain": [
       "list"
      ]
     },
     "execution_count": 131,
     "metadata": {},
     "output_type": "execute_result"
    }
   ],
   "source": [
    "data = response.json()['daily']\n",
    "daily = data['data']\n",
    "type(daily)"
   ]
  },
  {
   "cell_type": "code",
   "execution_count": 132,
   "metadata": {
    "scrolled": true
   },
   "outputs": [
    {
     "data": {
      "text/plain": [
       "1"
      ]
     },
     "execution_count": 132,
     "metadata": {},
     "output_type": "execute_result"
    }
   ],
   "source": [
    "len(daily)"
   ]
  },
  {
   "cell_type": "code",
   "execution_count": 133,
   "metadata": {},
   "outputs": [
    {
     "data": {
      "text/plain": [
       "{'time': 1310767200,\n",
       " 'sunriseTime': 1310785440,\n",
       " 'sunsetTime': 1310844180,\n",
       " 'moonPhase': 0.55,\n",
       " 'precipIntensity': 0,\n",
       " 'precipIntensityMax': 0,\n",
       " 'precipProbability': 0,\n",
       " 'temperatureHigh': 77.98,\n",
       " 'temperatureHighTime': 1310826060,\n",
       " 'temperatureLow': 62.22,\n",
       " 'temperatureLowTime': 1310871360,\n",
       " 'apparentTemperatureHigh': 77.48,\n",
       " 'apparentTemperatureHighTime': 1310826060,\n",
       " 'apparentTemperatureLow': 62.71,\n",
       " 'apparentTemperatureLowTime': 1310871360,\n",
       " 'dewPoint': 48.77,\n",
       " 'humidity': 0.57,\n",
       " 'windSpeed': 6.77,\n",
       " 'windGust': 13,\n",
       " 'windGustTime': 1310767200,\n",
       " 'windBearing': 223,\n",
       " 'uvIndex': 7,\n",
       " 'uvIndexTime': 1310814000,\n",
       " 'visibility': 6.208,\n",
       " 'temperatureMin': 52.8,\n",
       " 'temperatureMinTime': 1310787240,\n",
       " 'temperatureMax': 77.98,\n",
       " 'temperatureMaxTime': 1310826060,\n",
       " 'apparentTemperatureMin': 53.29,\n",
       " 'apparentTemperatureMinTime': 1310787240,\n",
       " 'apparentTemperatureMax': 77.48,\n",
       " 'apparentTemperatureMaxTime': 1310826060}"
      ]
     },
     "execution_count": 133,
     "metadata": {},
     "output_type": "execute_result"
    }
   ],
   "source": [
    "daily[0]"
   ]
  },
  {
   "cell_type": "code",
   "execution_count": 134,
   "metadata": {},
   "outputs": [],
   "source": [
    "daily = daily[0]"
   ]
  },
  {
   "cell_type": "code",
   "execution_count": 135,
   "metadata": {},
   "outputs": [
    {
     "data": {
      "text/plain": [
       "dict"
      ]
     },
     "execution_count": 135,
     "metadata": {},
     "output_type": "execute_result"
    }
   ],
   "source": [
    "type(daily)"
   ]
  },
  {
   "cell_type": "code",
   "execution_count": 136,
   "metadata": {
    "scrolled": true
   },
   "outputs": [
    {
     "ename": "KeyError",
     "evalue": "'icon'",
     "output_type": "error",
     "traceback": [
      "\u001b[0;31m---------------------------------------------------------------------------\u001b[0m",
      "\u001b[0;31mKeyError\u001b[0m                                  Traceback (most recent call last)",
      "\u001b[0;32m<ipython-input-136-43f44bb5fc2d>\u001b[0m in \u001b[0;36m<module>\u001b[0;34m()\u001b[0m\n\u001b[0;32m----> 1\u001b[0;31m \u001b[0mdaily\u001b[0m\u001b[0;34m[\u001b[0m\u001b[0;34m'icon'\u001b[0m\u001b[0;34m]\u001b[0m\u001b[0;34m\u001b[0m\u001b[0m\n\u001b[0m",
      "\u001b[0;31mKeyError\u001b[0m: 'icon'"
     ]
    }
   ],
   "source": [
    "daily['icon']"
   ]
  },
  {
   "cell_type": "markdown",
   "metadata": {},
   "source": [
    "# Exploring the Kaggle Data Set"
   ]
  },
  {
   "cell_type": "code",
   "execution_count": 18,
   "metadata": {},
   "outputs": [],
   "source": [
    "#connect to Database\n",
    "conn = sqlite3.connect('''database.sqlite''')\n",
    "c = conn.cursor()"
   ]
  },
  {
   "cell_type": "code",
   "execution_count": 19,
   "metadata": {},
   "outputs": [
    {
     "data": {
      "text/plain": [
       "<sqlite3.Cursor at 0x11c7b2110>"
      ]
     },
     "execution_count": 19,
     "metadata": {},
     "output_type": "execute_result"
    }
   ],
   "source": [
    "c.execute(\"\"\"SELECT * from matches where season = 2011 ORDER BY Date ASC\"\"\")"
   ]
  },
  {
   "cell_type": "code",
   "execution_count": 20,
   "metadata": {},
   "outputs": [
    {
     "data": {
      "text/html": [
       "<div>\n",
       "<style scoped>\n",
       "    .dataframe tbody tr th:only-of-type {\n",
       "        vertical-align: middle;\n",
       "    }\n",
       "\n",
       "    .dataframe tbody tr th {\n",
       "        vertical-align: top;\n",
       "    }\n",
       "\n",
       "    .dataframe thead th {\n",
       "        text-align: right;\n",
       "    }\n",
       "</style>\n",
       "<table border=\"1\" class=\"dataframe\">\n",
       "  <thead>\n",
       "    <tr style=\"text-align: right;\">\n",
       "      <th></th>\n",
       "      <th>Match_ID</th>\n",
       "      <th>Div</th>\n",
       "      <th>Season</th>\n",
       "      <th>Date</th>\n",
       "      <th>HomeTeam</th>\n",
       "      <th>AwayTeam</th>\n",
       "      <th>FTHG</th>\n",
       "      <th>FTAG</th>\n",
       "      <th>FTR</th>\n",
       "    </tr>\n",
       "  </thead>\n",
       "  <tbody>\n",
       "    <tr>\n",
       "      <th>0</th>\n",
       "      <td>1133</td>\n",
       "      <td>D2</td>\n",
       "      <td>2011</td>\n",
       "      <td>2011-07-15</td>\n",
       "      <td>Cottbus</td>\n",
       "      <td>Dresden</td>\n",
       "      <td>2</td>\n",
       "      <td>1</td>\n",
       "      <td>H</td>\n",
       "    </tr>\n",
       "    <tr>\n",
       "      <th>1</th>\n",
       "      <td>1167</td>\n",
       "      <td>D2</td>\n",
       "      <td>2011</td>\n",
       "      <td>2011-07-15</td>\n",
       "      <td>Greuther Furth</td>\n",
       "      <td>Ein Frankfurt</td>\n",
       "      <td>2</td>\n",
       "      <td>3</td>\n",
       "      <td>A</td>\n",
       "    </tr>\n",
       "    <tr>\n",
       "      <th>2</th>\n",
       "      <td>1551</td>\n",
       "      <td>D2</td>\n",
       "      <td>2011</td>\n",
       "      <td>2011-07-15</td>\n",
       "      <td>Frankfurt FSV</td>\n",
       "      <td>Union Berlin</td>\n",
       "      <td>1</td>\n",
       "      <td>1</td>\n",
       "      <td>D</td>\n",
       "    </tr>\n",
       "    <tr>\n",
       "      <th>3</th>\n",
       "      <td>1550</td>\n",
       "      <td>D2</td>\n",
       "      <td>2011</td>\n",
       "      <td>2011-07-16</td>\n",
       "      <td>Erzgebirge Aue</td>\n",
       "      <td>Aachen</td>\n",
       "      <td>1</td>\n",
       "      <td>0</td>\n",
       "      <td>H</td>\n",
       "    </tr>\n",
       "    <tr>\n",
       "      <th>4</th>\n",
       "      <td>1678</td>\n",
       "      <td>D2</td>\n",
       "      <td>2011</td>\n",
       "      <td>2011-07-16</td>\n",
       "      <td>St Pauli</td>\n",
       "      <td>Ingolstadt</td>\n",
       "      <td>2</td>\n",
       "      <td>0</td>\n",
       "      <td>H</td>\n",
       "    </tr>\n",
       "  </tbody>\n",
       "</table>\n",
       "</div>"
      ],
      "text/plain": [
       "   Match_ID Div  Season        Date        HomeTeam       AwayTeam  FTHG  \\\n",
       "0      1133  D2    2011  2011-07-15         Cottbus        Dresden     2   \n",
       "1      1167  D2    2011  2011-07-15  Greuther Furth  Ein Frankfurt     2   \n",
       "2      1551  D2    2011  2011-07-15   Frankfurt FSV   Union Berlin     1   \n",
       "3      1550  D2    2011  2011-07-16  Erzgebirge Aue         Aachen     1   \n",
       "4      1678  D2    2011  2011-07-16        St Pauli     Ingolstadt     2   \n",
       "\n",
       "   FTAG FTR  \n",
       "0     1   H  \n",
       "1     3   A  \n",
       "2     1   D  \n",
       "3     0   H  \n",
       "4     0   H  "
      ]
     },
     "execution_count": 20,
     "metadata": {},
     "output_type": "execute_result"
    }
   ],
   "source": [
    "matches = pd.DataFrame(c.fetchall())\n",
    "matches.columns = [i[0] for i in c.description]\n",
    "matches.head()"
   ]
  },
  {
   "cell_type": "code",
   "execution_count": 388,
   "metadata": {},
   "outputs": [
    {
     "data": {
      "text/plain": [
       "<sqlite3.Cursor at 0x11c7b2110>"
      ]
     },
     "execution_count": 388,
     "metadata": {},
     "output_type": "execute_result"
    }
   ],
   "source": [
    "c.execute(\"\"\"SELECT * from teams where season = 2011\"\"\")"
   ]
  },
  {
   "cell_type": "code",
   "execution_count": 389,
   "metadata": {
    "scrolled": true
   },
   "outputs": [
    {
     "data": {
      "text/html": [
       "<div>\n",
       "<style scoped>\n",
       "    .dataframe tbody tr th:only-of-type {\n",
       "        vertical-align: middle;\n",
       "    }\n",
       "\n",
       "    .dataframe tbody tr th {\n",
       "        vertical-align: top;\n",
       "    }\n",
       "\n",
       "    .dataframe thead th {\n",
       "        text-align: right;\n",
       "    }\n",
       "</style>\n",
       "<table border=\"1\" class=\"dataframe\">\n",
       "  <thead>\n",
       "    <tr style=\"text-align: right;\">\n",
       "      <th></th>\n",
       "      <th>Season</th>\n",
       "      <th>TeamName</th>\n",
       "      <th>KaderHome</th>\n",
       "      <th>AvgAgeHome</th>\n",
       "      <th>ForeignPlayersHome</th>\n",
       "      <th>OverallMarketValueHome</th>\n",
       "      <th>AvgMarketValueHome</th>\n",
       "      <th>StadiumCapacity</th>\n",
       "    </tr>\n",
       "  </thead>\n",
       "  <tbody>\n",
       "    <tr>\n",
       "      <th>count</th>\n",
       "      <td>36</td>\n",
       "      <td>36</td>\n",
       "      <td>36</td>\n",
       "      <td>36</td>\n",
       "      <td>36</td>\n",
       "      <td>36</td>\n",
       "      <td>36</td>\n",
       "      <td>36</td>\n",
       "    </tr>\n",
       "    <tr>\n",
       "      <th>unique</th>\n",
       "      <td>1</td>\n",
       "      <td>36</td>\n",
       "      <td>14</td>\n",
       "      <td>4</td>\n",
       "      <td>16</td>\n",
       "      <td>36</td>\n",
       "      <td>36</td>\n",
       "      <td>19</td>\n",
       "    </tr>\n",
       "    <tr>\n",
       "      <th>top</th>\n",
       "      <td>2011</td>\n",
       "      <td>Braunschweig</td>\n",
       "      <td>30</td>\n",
       "      <td>24</td>\n",
       "      <td>17</td>\n",
       "      <td>11950000</td>\n",
       "      <td>570000</td>\n",
       "      <td>47728</td>\n",
       "    </tr>\n",
       "    <tr>\n",
       "      <th>freq</th>\n",
       "      <td>36</td>\n",
       "      <td>1</td>\n",
       "      <td>5</td>\n",
       "      <td>19</td>\n",
       "      <td>4</td>\n",
       "      <td>1</td>\n",
       "      <td>1</td>\n",
       "      <td>18</td>\n",
       "    </tr>\n",
       "  </tbody>\n",
       "</table>\n",
       "</div>"
      ],
      "text/plain": [
       "       Season      TeamName KaderHome AvgAgeHome ForeignPlayersHome  \\\n",
       "count      36            36        36         36                 36   \n",
       "unique      1            36        14          4                 16   \n",
       "top      2011  Braunschweig        30         24                 17   \n",
       "freq       36             1         5         19                  4   \n",
       "\n",
       "       OverallMarketValueHome AvgMarketValueHome StadiumCapacity  \n",
       "count                      36                 36              36  \n",
       "unique                     36                 36              19  \n",
       "top                  11950000             570000           47728  \n",
       "freq                        1                  1              18  "
      ]
     },
     "execution_count": 389,
     "metadata": {},
     "output_type": "execute_result"
    }
   ],
   "source": [
    "teams = pd.DataFrame(c.fetchall())\n",
    "teams.columns = [i[0] for i in c.description]\n",
    "teams.head()"
   ]
  },
  {
   "cell_type": "code",
   "execution_count": 390,
   "metadata": {},
   "outputs": [
    {
     "data": {
      "text/plain": [
       "str"
      ]
     },
     "execution_count": 390,
     "metadata": {},
     "output_type": "execute_result"
    }
   ],
   "source": [
    "type(teams['OverallMarketValueHome'][0])"
   ]
  },
  {
   "cell_type": "code",
   "execution_count": 394,
   "metadata": {},
   "outputs": [
    {
     "data": {
      "text/plain": [
       "0     335600000\n",
       "1     158200000\n",
       "2     151100000\n",
       "3     136730000\n",
       "4     125350000\n",
       "5     122000000\n",
       "6     103200000\n",
       "7     101880000\n",
       "8      93600000\n",
       "9      69290000\n",
       "10     68850000\n",
       "11     59080000\n",
       "12     57400000\n",
       "13     55100000\n",
       "14     50350000\n",
       "15     50050000\n",
       "16     43180000\n",
       "17     34980000\n",
       "18     51400000\n",
       "19     25600000\n",
       "20     22550000\n",
       "21     21330000\n",
       "22     20080000\n",
       "23     19580000\n",
       "24     19500000\n",
       "25     19400000\n",
       "26     18250000\n",
       "27     17930000\n",
       "28     16700000\n",
       "29     16550000\n",
       "30     14850000\n",
       "31     14000000\n",
       "32     11950000\n",
       "33     10800000\n",
       "34     10680000\n",
       "35      8180000\n",
       "Name: OverallMarketValueHome, dtype: int32"
      ]
     },
     "execution_count": 394,
     "metadata": {},
     "output_type": "execute_result"
    }
   ],
   "source": [
    "teams.OverallMarketValueHome.astype('int32', inplace = True)"
   ]
  },
  {
   "cell_type": "code",
   "execution_count": 399,
   "metadata": {},
   "outputs": [
    {
     "data": {
      "text/plain": [
       "str"
      ]
     },
     "execution_count": 399,
     "metadata": {},
     "output_type": "execute_result"
    }
   ],
   "source": [
    "type(teams['OverallMarketValueHome'][0])"
   ]
  },
  {
   "cell_type": "code",
   "execution_count": 23,
   "metadata": {},
   "outputs": [
    {
     "data": {
      "text/plain": [
       "<sqlite3.Cursor at 0x11c7b2110>"
      ]
     },
     "execution_count": 23,
     "metadata": {},
     "output_type": "execute_result"
    }
   ],
   "source": [
    "c.execute(\"\"\"SELECT * from Teams_in_Matches\"\"\")"
   ]
  },
  {
   "cell_type": "code",
   "execution_count": 24,
   "metadata": {
    "scrolled": true
   },
   "outputs": [
    {
     "data": {
      "text/html": [
       "<div>\n",
       "<style scoped>\n",
       "    .dataframe tbody tr th:only-of-type {\n",
       "        vertical-align: middle;\n",
       "    }\n",
       "\n",
       "    .dataframe tbody tr th {\n",
       "        vertical-align: top;\n",
       "    }\n",
       "\n",
       "    .dataframe thead th {\n",
       "        text-align: right;\n",
       "    }\n",
       "</style>\n",
       "<table border=\"1\" class=\"dataframe\">\n",
       "  <thead>\n",
       "    <tr style=\"text-align: right;\">\n",
       "      <th></th>\n",
       "      <th>Match_ID</th>\n",
       "      <th>Unique_Team_ID</th>\n",
       "    </tr>\n",
       "  </thead>\n",
       "  <tbody>\n",
       "    <tr>\n",
       "      <th>0</th>\n",
       "      <td>1</td>\n",
       "      <td>26</td>\n",
       "    </tr>\n",
       "    <tr>\n",
       "      <th>1</th>\n",
       "      <td>1</td>\n",
       "      <td>46</td>\n",
       "    </tr>\n",
       "    <tr>\n",
       "      <th>2</th>\n",
       "      <td>2</td>\n",
       "      <td>26</td>\n",
       "    </tr>\n",
       "    <tr>\n",
       "      <th>3</th>\n",
       "      <td>2</td>\n",
       "      <td>42</td>\n",
       "    </tr>\n",
       "    <tr>\n",
       "      <th>4</th>\n",
       "      <td>3</td>\n",
       "      <td>26</td>\n",
       "    </tr>\n",
       "  </tbody>\n",
       "</table>\n",
       "</div>"
      ],
      "text/plain": [
       "   Match_ID  Unique_Team_ID\n",
       "0         1              26\n",
       "1         1              46\n",
       "2         2              26\n",
       "3         2              42\n",
       "4         3              26"
      ]
     },
     "execution_count": 24,
     "metadata": {},
     "output_type": "execute_result"
    }
   ],
   "source": [
    "teams_in_matches = pd.DataFrame(c.fetchall())\n",
    "teams_in_matches.columns = [i[0] for i in c.description]\n",
    "teams_in_matches.head()"
   ]
  },
  {
   "cell_type": "code",
   "execution_count": 25,
   "metadata": {},
   "outputs": [
    {
     "data": {
      "text/html": [
       "<div>\n",
       "<style scoped>\n",
       "    .dataframe tbody tr th:only-of-type {\n",
       "        vertical-align: middle;\n",
       "    }\n",
       "\n",
       "    .dataframe tbody tr th {\n",
       "        vertical-align: top;\n",
       "    }\n",
       "\n",
       "    .dataframe thead th {\n",
       "        text-align: right;\n",
       "    }\n",
       "</style>\n",
       "<table border=\"1\" class=\"dataframe\">\n",
       "  <thead>\n",
       "    <tr style=\"text-align: right;\">\n",
       "      <th></th>\n",
       "      <th>TeamName</th>\n",
       "      <th>Unique_Team_ID</th>\n",
       "    </tr>\n",
       "  </thead>\n",
       "  <tbody>\n",
       "    <tr>\n",
       "      <th>0</th>\n",
       "      <td>Bayern Munich</td>\n",
       "      <td>1</td>\n",
       "    </tr>\n",
       "    <tr>\n",
       "      <th>1</th>\n",
       "      <td>Dortmund</td>\n",
       "      <td>2</td>\n",
       "    </tr>\n",
       "    <tr>\n",
       "      <th>2</th>\n",
       "      <td>Leverkusen</td>\n",
       "      <td>3</td>\n",
       "    </tr>\n",
       "    <tr>\n",
       "      <th>3</th>\n",
       "      <td>RB Leipzig</td>\n",
       "      <td>4</td>\n",
       "    </tr>\n",
       "    <tr>\n",
       "      <th>4</th>\n",
       "      <td>Schalke 04</td>\n",
       "      <td>5</td>\n",
       "    </tr>\n",
       "  </tbody>\n",
       "</table>\n",
       "</div>"
      ],
      "text/plain": [
       "        TeamName  Unique_Team_ID\n",
       "0  Bayern Munich               1\n",
       "1       Dortmund               2\n",
       "2     Leverkusen               3\n",
       "3     RB Leipzig               4\n",
       "4     Schalke 04               5"
      ]
     },
     "execution_count": 25,
     "metadata": {},
     "output_type": "execute_result"
    }
   ],
   "source": [
    "c.execute(\"\"\"SELECT * from Unique_Teams\"\"\")\n",
    "unique_teams = pd.DataFrame(c.fetchall())\n",
    "unique_teams.columns = [i[0] for i in c.description]\n",
    "unique_teams.head()"
   ]
  },
  {
   "cell_type": "code",
   "execution_count": 26,
   "metadata": {
    "scrolled": true
   },
   "outputs": [
    {
     "data": {
      "text/plain": [
       "<sqlite3.Cursor at 0x11c7b2110>"
      ]
     },
     "execution_count": 26,
     "metadata": {},
     "output_type": "execute_result"
    }
   ],
   "source": [
    "c.execute(\"\"\"SELECT * from matches m\n",
    "                    JOIN teams_in_matches t \n",
    "                    ON m.match_id = t.match_id\n",
    "                    WHERE season = 2011\"\"\")"
   ]
  },
  {
   "cell_type": "code",
   "execution_count": 27,
   "metadata": {},
   "outputs": [
    {
     "data": {
      "text/html": [
       "<div>\n",
       "<style scoped>\n",
       "    .dataframe tbody tr th:only-of-type {\n",
       "        vertical-align: middle;\n",
       "    }\n",
       "\n",
       "    .dataframe tbody tr th {\n",
       "        vertical-align: top;\n",
       "    }\n",
       "\n",
       "    .dataframe thead th {\n",
       "        text-align: right;\n",
       "    }\n",
       "</style>\n",
       "<table border=\"1\" class=\"dataframe\">\n",
       "  <thead>\n",
       "    <tr style=\"text-align: right;\">\n",
       "      <th></th>\n",
       "      <th>Match_ID</th>\n",
       "      <th>Div</th>\n",
       "      <th>Season</th>\n",
       "      <th>Date</th>\n",
       "      <th>HomeTeam</th>\n",
       "      <th>AwayTeam</th>\n",
       "      <th>FTHG</th>\n",
       "      <th>FTAG</th>\n",
       "      <th>FTR</th>\n",
       "      <th>Match_ID</th>\n",
       "      <th>Unique_Team_ID</th>\n",
       "    </tr>\n",
       "  </thead>\n",
       "  <tbody>\n",
       "    <tr>\n",
       "      <th>0</th>\n",
       "      <td>1092</td>\n",
       "      <td>D1</td>\n",
       "      <td>2011</td>\n",
       "      <td>2012-03-31</td>\n",
       "      <td>Nurnberg</td>\n",
       "      <td>Bayern Munich</td>\n",
       "      <td>0</td>\n",
       "      <td>1</td>\n",
       "      <td>A</td>\n",
       "      <td>1092</td>\n",
       "      <td>1</td>\n",
       "    </tr>\n",
       "    <tr>\n",
       "      <th>1</th>\n",
       "      <td>1092</td>\n",
       "      <td>D1</td>\n",
       "      <td>2011</td>\n",
       "      <td>2012-03-31</td>\n",
       "      <td>Nurnberg</td>\n",
       "      <td>Bayern Munich</td>\n",
       "      <td>0</td>\n",
       "      <td>1</td>\n",
       "      <td>A</td>\n",
       "      <td>1092</td>\n",
       "      <td>22</td>\n",
       "    </tr>\n",
       "    <tr>\n",
       "      <th>2</th>\n",
       "      <td>1093</td>\n",
       "      <td>D1</td>\n",
       "      <td>2011</td>\n",
       "      <td>2011-12-11</td>\n",
       "      <td>Stuttgart</td>\n",
       "      <td>Bayern Munich</td>\n",
       "      <td>1</td>\n",
       "      <td>2</td>\n",
       "      <td>A</td>\n",
       "      <td>1093</td>\n",
       "      <td>1</td>\n",
       "    </tr>\n",
       "    <tr>\n",
       "      <th>3</th>\n",
       "      <td>1093</td>\n",
       "      <td>D1</td>\n",
       "      <td>2011</td>\n",
       "      <td>2011-12-11</td>\n",
       "      <td>Stuttgart</td>\n",
       "      <td>Bayern Munich</td>\n",
       "      <td>1</td>\n",
       "      <td>2</td>\n",
       "      <td>A</td>\n",
       "      <td>1093</td>\n",
       "      <td>17</td>\n",
       "    </tr>\n",
       "    <tr>\n",
       "      <th>4</th>\n",
       "      <td>1094</td>\n",
       "      <td>D1</td>\n",
       "      <td>2011</td>\n",
       "      <td>2011-08-13</td>\n",
       "      <td>Wolfsburg</td>\n",
       "      <td>Bayern Munich</td>\n",
       "      <td>0</td>\n",
       "      <td>1</td>\n",
       "      <td>A</td>\n",
       "      <td>1094</td>\n",
       "      <td>1</td>\n",
       "    </tr>\n",
       "  </tbody>\n",
       "</table>\n",
       "</div>"
      ],
      "text/plain": [
       "   Match_ID Div  Season        Date   HomeTeam       AwayTeam  FTHG  FTAG FTR  \\\n",
       "0      1092  D1    2011  2012-03-31   Nurnberg  Bayern Munich     0     1   A   \n",
       "1      1092  D1    2011  2012-03-31   Nurnberg  Bayern Munich     0     1   A   \n",
       "2      1093  D1    2011  2011-12-11  Stuttgart  Bayern Munich     1     2   A   \n",
       "3      1093  D1    2011  2011-12-11  Stuttgart  Bayern Munich     1     2   A   \n",
       "4      1094  D1    2011  2011-08-13  Wolfsburg  Bayern Munich     0     1   A   \n",
       "\n",
       "   Match_ID  Unique_Team_ID  \n",
       "0      1092               1  \n",
       "1      1092              22  \n",
       "2      1093               1  \n",
       "3      1093              17  \n",
       "4      1094               1  "
      ]
     },
     "execution_count": 27,
     "metadata": {},
     "output_type": "execute_result"
    }
   ],
   "source": [
    "matches2 = pd.DataFrame(c.fetchall())\n",
    "matches2.columns = [i[0] for i in c.description]\n",
    "matches2.head()"
   ]
  },
  {
   "cell_type": "code",
   "execution_count": 28,
   "metadata": {},
   "outputs": [
    {
     "data": {
      "text/plain": [
       "<sqlite3.Cursor at 0x11c7b2110>"
      ]
     },
     "execution_count": 28,
     "metadata": {},
     "output_type": "execute_result"
    }
   ],
   "source": [
    "c.execute(\"\"\"SELECT  m.match_id, m.Div, m.Season, m.Date, m.HomeTeam, m.AwayTeam, m.FTHG, m.FTAG, m.FTR, t.Unique_Team_ID as Home_team_id\n",
    "                    from matches m\n",
    "                    JOIN unique_teams t \n",
    "                    ON m.HomeTeam = t.TeamName\n",
    "                    WHERE season = 2011\n",
    "                    ORDER BY m.date ASC\"\"\")"
   ]
  },
  {
   "cell_type": "code",
   "execution_count": 29,
   "metadata": {
    "scrolled": true
   },
   "outputs": [
    {
     "data": {
      "text/html": [
       "<div>\n",
       "<style scoped>\n",
       "    .dataframe tbody tr th:only-of-type {\n",
       "        vertical-align: middle;\n",
       "    }\n",
       "\n",
       "    .dataframe tbody tr th {\n",
       "        vertical-align: top;\n",
       "    }\n",
       "\n",
       "    .dataframe thead th {\n",
       "        text-align: right;\n",
       "    }\n",
       "</style>\n",
       "<table border=\"1\" class=\"dataframe\">\n",
       "  <thead>\n",
       "    <tr style=\"text-align: right;\">\n",
       "      <th></th>\n",
       "      <th>Match_ID</th>\n",
       "      <th>Div</th>\n",
       "      <th>Season</th>\n",
       "      <th>Date</th>\n",
       "      <th>HomeTeam</th>\n",
       "      <th>AwayTeam</th>\n",
       "      <th>FTHG</th>\n",
       "      <th>FTAG</th>\n",
       "      <th>FTR</th>\n",
       "      <th>Home_team_id</th>\n",
       "    </tr>\n",
       "  </thead>\n",
       "  <tbody>\n",
       "    <tr>\n",
       "      <th>0</th>\n",
       "      <td>1133</td>\n",
       "      <td>D2</td>\n",
       "      <td>2011</td>\n",
       "      <td>2011-07-15</td>\n",
       "      <td>Cottbus</td>\n",
       "      <td>Dresden</td>\n",
       "      <td>2</td>\n",
       "      <td>1</td>\n",
       "      <td>H</td>\n",
       "      <td>31</td>\n",
       "    </tr>\n",
       "    <tr>\n",
       "      <th>1</th>\n",
       "      <td>1167</td>\n",
       "      <td>D2</td>\n",
       "      <td>2011</td>\n",
       "      <td>2011-07-15</td>\n",
       "      <td>Greuther Furth</td>\n",
       "      <td>Ein Frankfurt</td>\n",
       "      <td>2</td>\n",
       "      <td>3</td>\n",
       "      <td>A</td>\n",
       "      <td>24</td>\n",
       "    </tr>\n",
       "    <tr>\n",
       "      <th>2</th>\n",
       "      <td>1551</td>\n",
       "      <td>D2</td>\n",
       "      <td>2011</td>\n",
       "      <td>2011-07-15</td>\n",
       "      <td>Frankfurt FSV</td>\n",
       "      <td>Union Berlin</td>\n",
       "      <td>1</td>\n",
       "      <td>1</td>\n",
       "      <td>D</td>\n",
       "      <td>44</td>\n",
       "    </tr>\n",
       "    <tr>\n",
       "      <th>3</th>\n",
       "      <td>1550</td>\n",
       "      <td>D2</td>\n",
       "      <td>2011</td>\n",
       "      <td>2011-07-16</td>\n",
       "      <td>Erzgebirge Aue</td>\n",
       "      <td>Aachen</td>\n",
       "      <td>1</td>\n",
       "      <td>0</td>\n",
       "      <td>H</td>\n",
       "      <td>39</td>\n",
       "    </tr>\n",
       "    <tr>\n",
       "      <th>4</th>\n",
       "      <td>1678</td>\n",
       "      <td>D2</td>\n",
       "      <td>2011</td>\n",
       "      <td>2011-07-16</td>\n",
       "      <td>St Pauli</td>\n",
       "      <td>Ingolstadt</td>\n",
       "      <td>2</td>\n",
       "      <td>0</td>\n",
       "      <td>H</td>\n",
       "      <td>27</td>\n",
       "    </tr>\n",
       "  </tbody>\n",
       "</table>\n",
       "</div>"
      ],
      "text/plain": [
       "   Match_ID Div  Season        Date        HomeTeam       AwayTeam  FTHG  \\\n",
       "0      1133  D2    2011  2011-07-15         Cottbus        Dresden     2   \n",
       "1      1167  D2    2011  2011-07-15  Greuther Furth  Ein Frankfurt     2   \n",
       "2      1551  D2    2011  2011-07-15   Frankfurt FSV   Union Berlin     1   \n",
       "3      1550  D2    2011  2011-07-16  Erzgebirge Aue         Aachen     1   \n",
       "4      1678  D2    2011  2011-07-16        St Pauli     Ingolstadt     2   \n",
       "\n",
       "   FTAG FTR  Home_team_id  \n",
       "0     1   H            31  \n",
       "1     3   A            24  \n",
       "2     1   D            44  \n",
       "3     0   H            39  \n",
       "4     0   H            27  "
      ]
     },
     "execution_count": 29,
     "metadata": {},
     "output_type": "execute_result"
    }
   ],
   "source": [
    "home_matches = pd.DataFrame(c.fetchall())\n",
    "home_matches.columns = [i[0] for i in c.description]\n",
    "home_matches.head()"
   ]
  },
  {
   "cell_type": "code",
   "execution_count": 30,
   "metadata": {},
   "outputs": [],
   "source": [
    "home_matches.set_index('Match_ID',inplace=True)"
   ]
  },
  {
   "cell_type": "code",
   "execution_count": 31,
   "metadata": {},
   "outputs": [
    {
     "data": {
      "text/plain": [
       "<sqlite3.Cursor at 0x11c7b2110>"
      ]
     },
     "execution_count": 31,
     "metadata": {},
     "output_type": "execute_result"
    }
   ],
   "source": [
    "c.execute(\"\"\"SELECT m.match_id, m.Div, m.Season, m.Date, m.HomeTeam, m.AwayTeam, m.FTHG, m.FTAG, m.FTR, t.Unique_Team_ID as Away_Team_ID\n",
    "                    from matches m\n",
    "                    JOIN unique_teams t \n",
    "                    ON m.AwayTeam = t.TeamName\n",
    "                    WHERE season = 2011\n",
    "                    ORDER BY m.date ASC\"\"\")"
   ]
  },
  {
   "cell_type": "code",
   "execution_count": 32,
   "metadata": {},
   "outputs": [
    {
     "data": {
      "text/html": [
       "<div>\n",
       "<style scoped>\n",
       "    .dataframe tbody tr th:only-of-type {\n",
       "        vertical-align: middle;\n",
       "    }\n",
       "\n",
       "    .dataframe tbody tr th {\n",
       "        vertical-align: top;\n",
       "    }\n",
       "\n",
       "    .dataframe thead th {\n",
       "        text-align: right;\n",
       "    }\n",
       "</style>\n",
       "<table border=\"1\" class=\"dataframe\">\n",
       "  <thead>\n",
       "    <tr style=\"text-align: right;\">\n",
       "      <th></th>\n",
       "      <th>Match_ID</th>\n",
       "      <th>Div</th>\n",
       "      <th>Season</th>\n",
       "      <th>Date</th>\n",
       "      <th>HomeTeam</th>\n",
       "      <th>AwayTeam</th>\n",
       "      <th>FTHG</th>\n",
       "      <th>FTAG</th>\n",
       "      <th>FTR</th>\n",
       "      <th>Away_Team_ID</th>\n",
       "    </tr>\n",
       "  </thead>\n",
       "  <tbody>\n",
       "    <tr>\n",
       "      <th>0</th>\n",
       "      <td>1133</td>\n",
       "      <td>D2</td>\n",
       "      <td>2011</td>\n",
       "      <td>2011-07-15</td>\n",
       "      <td>Cottbus</td>\n",
       "      <td>Dresden</td>\n",
       "      <td>2</td>\n",
       "      <td>1</td>\n",
       "      <td>H</td>\n",
       "      <td>37</td>\n",
       "    </tr>\n",
       "    <tr>\n",
       "      <th>1</th>\n",
       "      <td>1167</td>\n",
       "      <td>D2</td>\n",
       "      <td>2011</td>\n",
       "      <td>2011-07-15</td>\n",
       "      <td>Greuther Furth</td>\n",
       "      <td>Ein Frankfurt</td>\n",
       "      <td>2</td>\n",
       "      <td>3</td>\n",
       "      <td>A</td>\n",
       "      <td>14</td>\n",
       "    </tr>\n",
       "    <tr>\n",
       "      <th>2</th>\n",
       "      <td>1551</td>\n",
       "      <td>D2</td>\n",
       "      <td>2011</td>\n",
       "      <td>2011-07-15</td>\n",
       "      <td>Frankfurt FSV</td>\n",
       "      <td>Union Berlin</td>\n",
       "      <td>1</td>\n",
       "      <td>1</td>\n",
       "      <td>D</td>\n",
       "      <td>35</td>\n",
       "    </tr>\n",
       "    <tr>\n",
       "      <th>3</th>\n",
       "      <td>1550</td>\n",
       "      <td>D2</td>\n",
       "      <td>2011</td>\n",
       "      <td>2011-07-16</td>\n",
       "      <td>Erzgebirge Aue</td>\n",
       "      <td>Aachen</td>\n",
       "      <td>1</td>\n",
       "      <td>0</td>\n",
       "      <td>H</td>\n",
       "      <td>34</td>\n",
       "    </tr>\n",
       "    <tr>\n",
       "      <th>4</th>\n",
       "      <td>1678</td>\n",
       "      <td>D2</td>\n",
       "      <td>2011</td>\n",
       "      <td>2011-07-16</td>\n",
       "      <td>St Pauli</td>\n",
       "      <td>Ingolstadt</td>\n",
       "      <td>2</td>\n",
       "      <td>0</td>\n",
       "      <td>H</td>\n",
       "      <td>19</td>\n",
       "    </tr>\n",
       "  </tbody>\n",
       "</table>\n",
       "</div>"
      ],
      "text/plain": [
       "   Match_ID Div  Season        Date        HomeTeam       AwayTeam  FTHG  \\\n",
       "0      1133  D2    2011  2011-07-15         Cottbus        Dresden     2   \n",
       "1      1167  D2    2011  2011-07-15  Greuther Furth  Ein Frankfurt     2   \n",
       "2      1551  D2    2011  2011-07-15   Frankfurt FSV   Union Berlin     1   \n",
       "3      1550  D2    2011  2011-07-16  Erzgebirge Aue         Aachen     1   \n",
       "4      1678  D2    2011  2011-07-16        St Pauli     Ingolstadt     2   \n",
       "\n",
       "   FTAG FTR  Away_Team_ID  \n",
       "0     1   H            37  \n",
       "1     3   A            14  \n",
       "2     1   D            35  \n",
       "3     0   H            34  \n",
       "4     0   H            19  "
      ]
     },
     "execution_count": 32,
     "metadata": {},
     "output_type": "execute_result"
    }
   ],
   "source": [
    "away_matches = pd.DataFrame(c.fetchall())\n",
    "away_matches.columns = [i[0] for i in c.description]\n",
    "away_matches.head()"
   ]
  },
  {
   "cell_type": "code",
   "execution_count": 33,
   "metadata": {},
   "outputs": [],
   "source": [
    "away_matches.set_index('Match_ID',inplace=True)"
   ]
  },
  {
   "cell_type": "code",
   "execution_count": 34,
   "metadata": {
    "scrolled": true
   },
   "outputs": [
    {
     "data": {
      "text/html": [
       "<div>\n",
       "<style scoped>\n",
       "    .dataframe tbody tr th:only-of-type {\n",
       "        vertical-align: middle;\n",
       "    }\n",
       "\n",
       "    .dataframe tbody tr th {\n",
       "        vertical-align: top;\n",
       "    }\n",
       "\n",
       "    .dataframe thead th {\n",
       "        text-align: right;\n",
       "    }\n",
       "</style>\n",
       "<table border=\"1\" class=\"dataframe\">\n",
       "  <thead>\n",
       "    <tr style=\"text-align: right;\">\n",
       "      <th></th>\n",
       "      <th>Div</th>\n",
       "      <th>Season</th>\n",
       "      <th>Date</th>\n",
       "      <th>HomeTeam</th>\n",
       "      <th>AwayTeam</th>\n",
       "      <th>FTHG</th>\n",
       "      <th>FTAG</th>\n",
       "      <th>FTR</th>\n",
       "      <th>Home_team_id</th>\n",
       "      <th>Away_Team_ID</th>\n",
       "    </tr>\n",
       "  </thead>\n",
       "  <tbody>\n",
       "    <tr>\n",
       "      <th>0</th>\n",
       "      <td>D2</td>\n",
       "      <td>2011</td>\n",
       "      <td>2011-07-15</td>\n",
       "      <td>Cottbus</td>\n",
       "      <td>Dresden</td>\n",
       "      <td>2</td>\n",
       "      <td>1</td>\n",
       "      <td>H</td>\n",
       "      <td>31</td>\n",
       "      <td>37</td>\n",
       "    </tr>\n",
       "    <tr>\n",
       "      <th>1</th>\n",
       "      <td>D2</td>\n",
       "      <td>2011</td>\n",
       "      <td>2011-07-15</td>\n",
       "      <td>Greuther Furth</td>\n",
       "      <td>Ein Frankfurt</td>\n",
       "      <td>2</td>\n",
       "      <td>3</td>\n",
       "      <td>A</td>\n",
       "      <td>24</td>\n",
       "      <td>14</td>\n",
       "    </tr>\n",
       "    <tr>\n",
       "      <th>2</th>\n",
       "      <td>D2</td>\n",
       "      <td>2011</td>\n",
       "      <td>2011-07-15</td>\n",
       "      <td>Frankfurt FSV</td>\n",
       "      <td>Union Berlin</td>\n",
       "      <td>1</td>\n",
       "      <td>1</td>\n",
       "      <td>D</td>\n",
       "      <td>44</td>\n",
       "      <td>35</td>\n",
       "    </tr>\n",
       "    <tr>\n",
       "      <th>3</th>\n",
       "      <td>D2</td>\n",
       "      <td>2011</td>\n",
       "      <td>2011-07-16</td>\n",
       "      <td>Erzgebirge Aue</td>\n",
       "      <td>Aachen</td>\n",
       "      <td>1</td>\n",
       "      <td>0</td>\n",
       "      <td>H</td>\n",
       "      <td>39</td>\n",
       "      <td>34</td>\n",
       "    </tr>\n",
       "    <tr>\n",
       "      <th>4</th>\n",
       "      <td>D2</td>\n",
       "      <td>2011</td>\n",
       "      <td>2011-07-16</td>\n",
       "      <td>St Pauli</td>\n",
       "      <td>Ingolstadt</td>\n",
       "      <td>2</td>\n",
       "      <td>0</td>\n",
       "      <td>H</td>\n",
       "      <td>27</td>\n",
       "      <td>19</td>\n",
       "    </tr>\n",
       "  </tbody>\n",
       "</table>\n",
       "</div>"
      ],
      "text/plain": [
       "  Div  Season        Date        HomeTeam       AwayTeam  FTHG  FTAG FTR  \\\n",
       "0  D2    2011  2011-07-15         Cottbus        Dresden     2     1   H   \n",
       "1  D2    2011  2011-07-15  Greuther Furth  Ein Frankfurt     2     3   A   \n",
       "2  D2    2011  2011-07-15   Frankfurt FSV   Union Berlin     1     1   D   \n",
       "3  D2    2011  2011-07-16  Erzgebirge Aue         Aachen     1     0   H   \n",
       "4  D2    2011  2011-07-16        St Pauli     Ingolstadt     2     0   H   \n",
       "\n",
       "   Home_team_id  Away_Team_ID  \n",
       "0            31            37  \n",
       "1            24            14  \n",
       "2            44            35  \n",
       "3            39            34  \n",
       "4            27            19  "
      ]
     },
     "execution_count": 34,
     "metadata": {},
     "output_type": "execute_result"
    }
   ],
   "source": [
    "full_data = pd.merge(home_matches, away_matches, how='right')\n",
    "full_data.head()"
   ]
  },
  {
   "cell_type": "code",
   "execution_count": 35,
   "metadata": {
    "scrolled": true
   },
   "outputs": [
    {
     "data": {
      "text/plain": [
       "Index(['Div', 'Season', 'Date', 'HomeTeam', 'AwayTeam', 'FTHG', 'FTAG', 'FTR',\n",
       "       'Home_team_id', 'Away_Team_ID'],\n",
       "      dtype='object')"
      ]
     },
     "execution_count": 35,
     "metadata": {},
     "output_type": "execute_result"
    }
   ],
   "source": [
    "full_data.columns"
   ]
  },
  {
   "cell_type": "code",
   "execution_count": 158,
   "metadata": {},
   "outputs": [],
   "source": [
    "dates_list = full_data.Date.unique()\n"
   ]
  },
  {
   "cell_type": "code",
   "execution_count": 159,
   "metadata": {},
   "outputs": [
    {
     "data": {
      "text/plain": [
       "numpy.ndarray"
      ]
     },
     "execution_count": 159,
     "metadata": {},
     "output_type": "execute_result"
    }
   ],
   "source": [
    "type(dates_list)"
   ]
  },
  {
   "cell_type": "code",
   "execution_count": 160,
   "metadata": {},
   "outputs": [
    {
     "data": {
      "text/plain": [
       "list"
      ]
     },
     "execution_count": 160,
     "metadata": {},
     "output_type": "execute_result"
    }
   ],
   "source": [
    "date_list = list(dates_list)\n",
    "type(date_list)"
   ]
  },
  {
   "cell_type": "code",
   "execution_count": 161,
   "metadata": {},
   "outputs": [
    {
     "data": {
      "text/plain": [
       "str"
      ]
     },
     "execution_count": 161,
     "metadata": {},
     "output_type": "execute_result"
    }
   ],
   "source": [
    "type(date_list[0])"
   ]
  },
  {
   "cell_type": "code",
   "execution_count": 163,
   "metadata": {},
   "outputs": [
    {
     "data": {
      "text/plain": [
       "'2011-07-15'"
      ]
     },
     "execution_count": 163,
     "metadata": {},
     "output_type": "execute_result"
    }
   ],
   "source": [
    "date_list[0]"
   ]
  },
  {
   "cell_type": "code",
   "execution_count": 175,
   "metadata": {},
   "outputs": [
    {
     "data": {
      "text/plain": [
       "165"
      ]
     },
     "execution_count": 175,
     "metadata": {},
     "output_type": "execute_result"
    }
   ],
   "source": [
    "len(date_list)"
   ]
  },
  {
   "cell_type": "markdown",
   "metadata": {},
   "source": [
    "# Structring the Get Weather OOP"
   ]
  },
  {
   "cell_type": "code",
   "execution_count": 293,
   "metadata": {},
   "outputs": [
    {
     "ename": "IndentationError",
     "evalue": "expected an indented block (<ipython-input-293-19ae4d30d84f>, line 20)",
     "output_type": "error",
     "traceback": [
      "\u001b[0;36m  File \u001b[0;32m\"<ipython-input-293-19ae4d30d84f>\"\u001b[0;36m, line \u001b[0;32m20\u001b[0m\n\u001b[0;31m    else:\u001b[0m\n\u001b[0m       ^\u001b[0m\n\u001b[0;31mIndentationError\u001b[0m\u001b[0;31m:\u001b[0m expected an indented block\n"
     ]
    }
   ],
   "source": [
    "#define weather class\n",
    "\n",
    "class WeatherGetter(object):\n",
    "    def __init__(self):\n",
    "        self.secret_key = keys['api_key']\n",
    "        self.berlin_lat = \"52.5200\"\n",
    "        self.berlin_long = \"13.4050\"\n",
    "        self.url_base = \"https://api.darksky.net/forecast\"\n",
    "        self.exclude = 'currently,flags,minutely,hourly,alerts'\n",
    "        \n",
    "    def get_weather_forcast(self, datetime_string):\n",
    "        year, month, day = self.format_datetime(datetime_string)\n",
    "        \n",
    "        datetime = \"{}-{}-{}T12:00:00\".format(year, month, day)\n",
    "        full_url = \"{}/{}/{},{},{}?exclude={}\".format(self.url_base, self.secret_key, \n",
    "                                                     self.berlin_lat, self.berlin_long, \n",
    "                                                     datetime, self.exclude)\n",
    "        response = requests.get(full_url)\n",
    "        if response.status_code == 200: \n",
    "            print(response.status_code)\n",
    "        else:\n",
    "            print('Error: The API call failed')\n",
    "        return response\n",
    "\n",
    "    def get_rain(self, response):\n",
    "        data = json.loads(response.text)\n",
    "        daily = data['daily']\n",
    "        data =  daily['data']\n",
    "        data = data[0]\n",
    "        try:\n",
    "            if data['icon'] == 'rain':\n",
    "                print(data['icon'])\n",
    "                return True\n",
    "            else: \n",
    "                print(data['icon'])\n",
    "                return False\n",
    "        except KeyError:\n",
    "            print('no rain')\n",
    "            return False\n",
    "            \n",
    "    def format_datetime(self,datetime_string):\n",
    "        year = datetime_string[:4]\n",
    "        month = datetime_string[5:7]\n",
    "        day = datetime_string[8:]\n",
    "        \n",
    "        return year, month, day\n",
    "    \n",
    "    def was_raining(self, datetime_string):\n",
    "        response = self.get_weather_forcast(datetime_string)\n",
    "        itrain = self.get_rain(response)\n",
    "        return itrain\n",
    "    \n",
    "    def all_weather(self, date_list):\n",
    "        weather = {}\n",
    "        \n",
    "        for date in date_list:\n",
    "            weather[date] = self.was_raining(date)\n",
    "        return weather\n",
    "        \n",
    "        \n",
    "    \n"
   ]
  },
  {
   "cell_type": "code",
   "execution_count": 177,
   "metadata": {},
   "outputs": [
    {
     "name": "stdout",
     "output_type": "stream",
     "text": [
      "200\n"
     ]
    },
    {
     "data": {
      "text/plain": [
       "<Response [200]>"
      ]
     },
     "execution_count": 177,
     "metadata": {},
     "output_type": "execute_result"
    }
   ],
   "source": [
    "wg = WeatherGetter()\n",
    "wg.get_weather_forcast('2011-07-15')"
   ]
  },
  {
   "cell_type": "code",
   "execution_count": 179,
   "metadata": {},
   "outputs": [
    {
     "name": "stdout",
     "output_type": "stream",
     "text": [
      "200\n",
      "snow\n"
     ]
    },
    {
     "data": {
      "text/plain": [
       "False"
      ]
     },
     "execution_count": 179,
     "metadata": {},
     "output_type": "execute_result"
    }
   ],
   "source": [
    "wg.was_raining('2012-02-16')"
   ]
  },
  {
   "cell_type": "code",
   "execution_count": 155,
   "metadata": {
    "scrolled": true
   },
   "outputs": [
    {
     "name": "stdout",
     "output_type": "stream",
     "text": [
      "200\n",
      "rain\n"
     ]
    },
    {
     "data": {
      "text/plain": [
       "True"
      ]
     },
     "execution_count": 155,
     "metadata": {},
     "output_type": "execute_result"
    }
   ],
   "source": [
    "wg.was_raining('2011-10-18')"
   ]
  },
  {
   "cell_type": "code",
   "execution_count": 142,
   "metadata": {
    "scrolled": true
   },
   "outputs": [
    {
     "data": {
      "text/plain": [
       "'2011-07-16'"
      ]
     },
     "execution_count": 142,
     "metadata": {},
     "output_type": "execute_result"
    }
   ],
   "source": [
    "date_list[1]"
   ]
  },
  {
   "cell_type": "code",
   "execution_count": 143,
   "metadata": {
    "scrolled": true
   },
   "outputs": [
    {
     "name": "stdout",
     "output_type": "stream",
     "text": [
      "200\n"
     ]
    },
    {
     "data": {
      "text/plain": [
       "False"
      ]
     },
     "execution_count": 143,
     "metadata": {},
     "output_type": "execute_result"
    }
   ],
   "source": [
    "wg.was_raining('2011-07-16')"
   ]
  },
  {
   "cell_type": "code",
   "execution_count": 183,
   "metadata": {
    "scrolled": true
   },
   "outputs": [
    {
     "name": "stdout",
     "output_type": "stream",
     "text": [
      "200\n",
      "partly-cloudy-day\n",
      "200\n",
      "no rain\n",
      "200\n",
      "rain\n",
      "200\n",
      "rain\n",
      "200\n",
      "rain\n",
      "200\n",
      "rain\n"
     ]
    }
   ],
   "source": [
    " for date in date_list[:6]:\n",
    "        wg.was_raining(date)"
   ]
  },
  {
   "cell_type": "code",
   "execution_count": 185,
   "metadata": {},
   "outputs": [
    {
     "name": "stdout",
     "output_type": "stream",
     "text": [
      "200\n",
      "partly-cloudy-day\n",
      "200\n",
      "no rain\n",
      "200\n",
      "rain\n",
      "200\n",
      "rain\n",
      "200\n",
      "rain\n",
      "200\n",
      "rain\n"
     ]
    }
   ],
   "source": [
    "forecast = wg.all_weather(date_list)\n"
   ]
  },
  {
   "cell_type": "code",
   "execution_count": 186,
   "metadata": {},
   "outputs": [
    {
     "data": {
      "text/plain": [
       "{'2011-07-15': False,\n",
       " '2011-07-16': False,\n",
       " '2011-07-17': True,\n",
       " '2011-07-18': True,\n",
       " '2011-07-22': True,\n",
       " '2011-07-23': True}"
      ]
     },
     "execution_count": 186,
     "metadata": {},
     "output_type": "execute_result"
    }
   ],
   "source": [
    "forecast"
   ]
  },
  {
   "cell_type": "markdown",
   "metadata": {},
   "source": [
    "# Structure Mongo entries based on team and results"
   ]
  },
  {
   "cell_type": "code",
   "execution_count": 189,
   "metadata": {
    "scrolled": true
   },
   "outputs": [
    {
     "data": {
      "text/html": [
       "<div>\n",
       "<style scoped>\n",
       "    .dataframe tbody tr th:only-of-type {\n",
       "        vertical-align: middle;\n",
       "    }\n",
       "\n",
       "    .dataframe tbody tr th {\n",
       "        vertical-align: top;\n",
       "    }\n",
       "\n",
       "    .dataframe thead th {\n",
       "        text-align: right;\n",
       "    }\n",
       "</style>\n",
       "<table border=\"1\" class=\"dataframe\">\n",
       "  <thead>\n",
       "    <tr style=\"text-align: right;\">\n",
       "      <th></th>\n",
       "      <th>Div</th>\n",
       "      <th>Season</th>\n",
       "      <th>Date</th>\n",
       "      <th>HomeTeam</th>\n",
       "      <th>AwayTeam</th>\n",
       "      <th>FTHG</th>\n",
       "      <th>FTAG</th>\n",
       "      <th>FTR</th>\n",
       "      <th>Home_team_id</th>\n",
       "      <th>Away_Team_ID</th>\n",
       "    </tr>\n",
       "  </thead>\n",
       "  <tbody>\n",
       "    <tr>\n",
       "      <th>0</th>\n",
       "      <td>D2</td>\n",
       "      <td>2011</td>\n",
       "      <td>2011-07-15</td>\n",
       "      <td>Cottbus</td>\n",
       "      <td>Dresden</td>\n",
       "      <td>2</td>\n",
       "      <td>1</td>\n",
       "      <td>H</td>\n",
       "      <td>31</td>\n",
       "      <td>37</td>\n",
       "    </tr>\n",
       "    <tr>\n",
       "      <th>1</th>\n",
       "      <td>D2</td>\n",
       "      <td>2011</td>\n",
       "      <td>2011-07-15</td>\n",
       "      <td>Greuther Furth</td>\n",
       "      <td>Ein Frankfurt</td>\n",
       "      <td>2</td>\n",
       "      <td>3</td>\n",
       "      <td>A</td>\n",
       "      <td>24</td>\n",
       "      <td>14</td>\n",
       "    </tr>\n",
       "    <tr>\n",
       "      <th>2</th>\n",
       "      <td>D2</td>\n",
       "      <td>2011</td>\n",
       "      <td>2011-07-15</td>\n",
       "      <td>Frankfurt FSV</td>\n",
       "      <td>Union Berlin</td>\n",
       "      <td>1</td>\n",
       "      <td>1</td>\n",
       "      <td>D</td>\n",
       "      <td>44</td>\n",
       "      <td>35</td>\n",
       "    </tr>\n",
       "    <tr>\n",
       "      <th>3</th>\n",
       "      <td>D2</td>\n",
       "      <td>2011</td>\n",
       "      <td>2011-07-16</td>\n",
       "      <td>Erzgebirge Aue</td>\n",
       "      <td>Aachen</td>\n",
       "      <td>1</td>\n",
       "      <td>0</td>\n",
       "      <td>H</td>\n",
       "      <td>39</td>\n",
       "      <td>34</td>\n",
       "    </tr>\n",
       "    <tr>\n",
       "      <th>4</th>\n",
       "      <td>D2</td>\n",
       "      <td>2011</td>\n",
       "      <td>2011-07-16</td>\n",
       "      <td>St Pauli</td>\n",
       "      <td>Ingolstadt</td>\n",
       "      <td>2</td>\n",
       "      <td>0</td>\n",
       "      <td>H</td>\n",
       "      <td>27</td>\n",
       "      <td>19</td>\n",
       "    </tr>\n",
       "  </tbody>\n",
       "</table>\n",
       "</div>"
      ],
      "text/plain": [
       "  Div  Season        Date        HomeTeam       AwayTeam  FTHG  FTAG FTR  \\\n",
       "0  D2    2011  2011-07-15         Cottbus        Dresden     2     1   H   \n",
       "1  D2    2011  2011-07-15  Greuther Furth  Ein Frankfurt     2     3   A   \n",
       "2  D2    2011  2011-07-15   Frankfurt FSV   Union Berlin     1     1   D   \n",
       "3  D2    2011  2011-07-16  Erzgebirge Aue         Aachen     1     0   H   \n",
       "4  D2    2011  2011-07-16        St Pauli     Ingolstadt     2     0   H   \n",
       "\n",
       "   Home_team_id  Away_Team_ID  \n",
       "0            31            37  \n",
       "1            24            14  \n",
       "2            44            35  \n",
       "3            39            34  \n",
       "4            27            19  "
      ]
     },
     "execution_count": 189,
     "metadata": {},
     "output_type": "execute_result"
    }
   ],
   "source": [
    "full_data.head()"
   ]
  },
  {
   "cell_type": "code",
   "execution_count": 192,
   "metadata": {},
   "outputs": [
    {
     "name": "stdout",
     "output_type": "stream",
     "text": [
      "200\n",
      "partly-cloudy-day\n",
      "200\n",
      "no rain\n",
      "200\n",
      "rain\n",
      "200\n",
      "rain\n",
      "200\n",
      "rain\n",
      "200\n",
      "rain\n",
      "200\n",
      "partly-cloudy-day\n",
      "200\n",
      "partly-cloudy-day\n",
      "200\n",
      "rain\n",
      "200\n",
      "rain\n",
      "200\n",
      "rain\n",
      "200\n",
      "rain\n",
      "200\n",
      "rain\n",
      "200\n",
      "partly-cloudy-day\n",
      "200\n",
      "rain\n",
      "200\n",
      "rain\n",
      "200\n",
      "rain\n",
      "200\n",
      "no rain\n",
      "200\n",
      "no rain\n",
      "200\n",
      "partly-cloudy-day\n",
      "200\n",
      "rain\n",
      "200\n",
      "rain\n",
      "200\n",
      "partly-cloudy-day\n",
      "200\n",
      "rain\n",
      "200\n",
      "rain\n",
      "200\n",
      "rain\n",
      "200\n",
      "rain\n",
      "200\n",
      "rain\n",
      "200\n",
      "partly-cloudy-day\n",
      "200\n",
      "partly-cloudy-day\n",
      "200\n",
      "rain\n",
      "200\n",
      "rain\n",
      "200\n",
      "partly-cloudy-day\n",
      "200\n",
      "no rain\n",
      "200\n",
      "no rain\n",
      "200\n",
      "no rain\n",
      "200\n",
      "no rain\n",
      "200\n",
      "no rain\n",
      "200\n",
      "no rain\n",
      "200\n",
      "no rain\n",
      "200\n",
      "no rain\n",
      "200\n",
      "no rain\n",
      "200\n",
      "rain\n",
      "200\n",
      "no rain\n",
      "200\n",
      "partly-cloudy-day\n",
      "200\n",
      "no rain\n",
      "200\n",
      "rain\n",
      "200\n",
      "partly-cloudy-day\n",
      "200\n",
      "no rain\n",
      "200\n",
      "rain\n",
      "200\n",
      "partly-cloudy-day\n",
      "200\n",
      "no rain\n",
      "200\n",
      "rain\n",
      "200\n",
      "rain\n",
      "200\n",
      "no rain\n",
      "200\n",
      "rain\n",
      "200\n",
      "partly-cloudy-day\n",
      "200\n",
      "no rain\n",
      "200\n",
      "no rain\n",
      "200\n",
      "rain\n",
      "200\n",
      "rain\n",
      "200\n",
      "partly-cloudy-day\n",
      "200\n",
      "partly-cloudy-day\n",
      "200\n",
      "rain\n",
      "200\n",
      "rain\n",
      "200\n",
      "partly-cloudy-day\n",
      "200\n",
      "partly-cloudy-day\n",
      "200\n",
      "rain\n",
      "200\n",
      "rain\n",
      "200\n",
      "partly-cloudy-day\n",
      "200\n",
      "rain\n",
      "200\n",
      "rain\n",
      "200\n",
      "rain\n",
      "200\n",
      "rain\n",
      "200\n",
      "rain\n",
      "200\n",
      "partly-cloudy-day\n",
      "200\n",
      "partly-cloudy-day\n",
      "200\n",
      "rain\n",
      "200\n",
      "partly-cloudy-day\n",
      "200\n",
      "rain\n",
      "200\n",
      "partly-cloudy-day\n",
      "200\n",
      "rain\n",
      "200\n",
      "partly-cloudy-day\n",
      "200\n",
      "rain\n",
      "200\n",
      "rain\n",
      "200\n",
      "rain\n",
      "200\n",
      "rain\n",
      "200\n",
      "partly-cloudy-day\n",
      "200\n",
      "partly-cloudy-day\n",
      "200\n",
      "partly-cloudy-day\n",
      "200\n",
      "snow\n",
      "200\n",
      "rain\n",
      "200\n",
      "partly-cloudy-day\n",
      "200\n",
      "rain\n",
      "200\n",
      "partly-cloudy-day\n",
      "200\n",
      "partly-cloudy-day\n",
      "200\n",
      "no rain\n",
      "200\n",
      "no rain\n",
      "200\n",
      "no rain\n",
      "200\n",
      "partly-cloudy-day\n",
      "200\n",
      "partly-cloudy-day\n",
      "200\n",
      "partly-cloudy-day\n",
      "200\n",
      "no rain\n",
      "200\n",
      "partly-cloudy-day\n",
      "200\n",
      "partly-cloudy-day\n",
      "200\n",
      "partly-cloudy-day\n",
      "200\n",
      "partly-cloudy-day\n",
      "200\n",
      "rain\n",
      "200\n",
      "partly-cloudy-day\n",
      "200\n",
      "rain\n",
      "200\n",
      "partly-cloudy-day\n",
      "200\n",
      "rain\n",
      "200\n",
      "partly-cloudy-day\n",
      "200\n",
      "partly-cloudy-day\n",
      "200\n",
      "rain\n",
      "200\n",
      "partly-cloudy-day\n",
      "200\n",
      "no rain\n",
      "200\n",
      "no rain\n",
      "200\n",
      "no rain\n",
      "200\n",
      "partly-cloudy-day\n",
      "200\n",
      "partly-cloudy-day\n",
      "200\n",
      "partly-cloudy-day\n",
      "200\n",
      "rain\n",
      "200\n",
      "partly-cloudy-day\n",
      "200\n",
      "partly-cloudy-day\n",
      "200\n",
      "no rain\n",
      "200\n",
      "no rain\n",
      "200\n",
      "partly-cloudy-day\n",
      "200\n",
      "partly-cloudy-day\n",
      "200\n",
      "partly-cloudy-day\n",
      "200\n",
      "partly-cloudy-day\n",
      "200\n",
      "clear-day\n",
      "200\n",
      "no rain\n",
      "200\n",
      "partly-cloudy-day\n",
      "200\n",
      "no rain\n",
      "200\n",
      "partly-cloudy-day\n",
      "200\n",
      "rain\n",
      "200\n",
      "partly-cloudy-day\n",
      "200\n",
      "rain\n",
      "200\n",
      "partly-cloudy-day\n",
      "200\n",
      "partly-cloudy-day\n",
      "200\n",
      "partly-cloudy-day\n",
      "200\n",
      "no rain\n",
      "200\n",
      "no rain\n",
      "200\n",
      "partly-cloudy-day\n",
      "200\n",
      "partly-cloudy-day\n",
      "200\n",
      "partly-cloudy-day\n",
      "200\n",
      "no rain\n",
      "200\n",
      "partly-cloudy-day\n",
      "200\n",
      "no rain\n",
      "200\n",
      "no rain\n",
      "200\n",
      "partly-cloudy-day\n",
      "200\n",
      "partly-cloudy-day\n",
      "200\n",
      "no rain\n",
      "200\n",
      "rain\n",
      "200\n",
      "no rain\n",
      "200\n",
      "no rain\n",
      "200\n",
      "no rain\n",
      "200\n",
      "no rain\n",
      "200\n",
      "no rain\n",
      "200\n",
      "rain\n",
      "200\n",
      "rain\n",
      "200\n",
      "partly-cloudy-day\n",
      "200\n",
      "partly-cloudy-day\n",
      "200\n",
      "partly-cloudy-day\n"
     ]
    }
   ],
   "source": [
    "#adding in weather details\n",
    "forcast = wg.all_weather(date_list)"
   ]
  },
  {
   "cell_type": "code",
   "execution_count": 195,
   "metadata": {
    "scrolled": true
   },
   "outputs": [
    {
     "data": {
      "text/plain": [
       "[False, False, False, False, False, True]"
      ]
     },
     "execution_count": 195,
     "metadata": {},
     "output_type": "execute_result"
    }
   ],
   "source": [
    "rain = []\n",
    "for date in full_data.Date:\n",
    "    rain.append(forcast[date])"
   ]
  },
  {
   "cell_type": "code",
   "execution_count": 196,
   "metadata": {},
   "outputs": [],
   "source": [
    "full_data['Rain'] = rain"
   ]
  },
  {
   "cell_type": "code",
   "execution_count": 197,
   "metadata": {
    "scrolled": false
   },
   "outputs": [
    {
     "data": {
      "text/html": [
       "<div>\n",
       "<style scoped>\n",
       "    .dataframe tbody tr th:only-of-type {\n",
       "        vertical-align: middle;\n",
       "    }\n",
       "\n",
       "    .dataframe tbody tr th {\n",
       "        vertical-align: top;\n",
       "    }\n",
       "\n",
       "    .dataframe thead th {\n",
       "        text-align: right;\n",
       "    }\n",
       "</style>\n",
       "<table border=\"1\" class=\"dataframe\">\n",
       "  <thead>\n",
       "    <tr style=\"text-align: right;\">\n",
       "      <th></th>\n",
       "      <th>Div</th>\n",
       "      <th>Season</th>\n",
       "      <th>Date</th>\n",
       "      <th>HomeTeam</th>\n",
       "      <th>AwayTeam</th>\n",
       "      <th>FTHG</th>\n",
       "      <th>FTAG</th>\n",
       "      <th>FTR</th>\n",
       "      <th>Home_team_id</th>\n",
       "      <th>Away_Team_ID</th>\n",
       "      <th>Rain</th>\n",
       "    </tr>\n",
       "  </thead>\n",
       "  <tbody>\n",
       "    <tr>\n",
       "      <th>0</th>\n",
       "      <td>D2</td>\n",
       "      <td>2011</td>\n",
       "      <td>2011-07-15</td>\n",
       "      <td>Cottbus</td>\n",
       "      <td>Dresden</td>\n",
       "      <td>2</td>\n",
       "      <td>1</td>\n",
       "      <td>H</td>\n",
       "      <td>31</td>\n",
       "      <td>37</td>\n",
       "      <td>False</td>\n",
       "    </tr>\n",
       "    <tr>\n",
       "      <th>1</th>\n",
       "      <td>D2</td>\n",
       "      <td>2011</td>\n",
       "      <td>2011-07-15</td>\n",
       "      <td>Greuther Furth</td>\n",
       "      <td>Ein Frankfurt</td>\n",
       "      <td>2</td>\n",
       "      <td>3</td>\n",
       "      <td>A</td>\n",
       "      <td>24</td>\n",
       "      <td>14</td>\n",
       "      <td>False</td>\n",
       "    </tr>\n",
       "    <tr>\n",
       "      <th>2</th>\n",
       "      <td>D2</td>\n",
       "      <td>2011</td>\n",
       "      <td>2011-07-15</td>\n",
       "      <td>Frankfurt FSV</td>\n",
       "      <td>Union Berlin</td>\n",
       "      <td>1</td>\n",
       "      <td>1</td>\n",
       "      <td>D</td>\n",
       "      <td>44</td>\n",
       "      <td>35</td>\n",
       "      <td>False</td>\n",
       "    </tr>\n",
       "    <tr>\n",
       "      <th>3</th>\n",
       "      <td>D2</td>\n",
       "      <td>2011</td>\n",
       "      <td>2011-07-16</td>\n",
       "      <td>Erzgebirge Aue</td>\n",
       "      <td>Aachen</td>\n",
       "      <td>1</td>\n",
       "      <td>0</td>\n",
       "      <td>H</td>\n",
       "      <td>39</td>\n",
       "      <td>34</td>\n",
       "      <td>False</td>\n",
       "    </tr>\n",
       "    <tr>\n",
       "      <th>4</th>\n",
       "      <td>D2</td>\n",
       "      <td>2011</td>\n",
       "      <td>2011-07-16</td>\n",
       "      <td>St Pauli</td>\n",
       "      <td>Ingolstadt</td>\n",
       "      <td>2</td>\n",
       "      <td>0</td>\n",
       "      <td>H</td>\n",
       "      <td>27</td>\n",
       "      <td>19</td>\n",
       "      <td>False</td>\n",
       "    </tr>\n",
       "  </tbody>\n",
       "</table>\n",
       "</div>"
      ],
      "text/plain": [
       "  Div  Season        Date        HomeTeam       AwayTeam  FTHG  FTAG FTR  \\\n",
       "0  D2    2011  2011-07-15         Cottbus        Dresden     2     1   H   \n",
       "1  D2    2011  2011-07-15  Greuther Furth  Ein Frankfurt     2     3   A   \n",
       "2  D2    2011  2011-07-15   Frankfurt FSV   Union Berlin     1     1   D   \n",
       "3  D2    2011  2011-07-16  Erzgebirge Aue         Aachen     1     0   H   \n",
       "4  D2    2011  2011-07-16        St Pauli     Ingolstadt     2     0   H   \n",
       "\n",
       "   Home_team_id  Away_Team_ID   Rain  \n",
       "0            31            37  False  \n",
       "1            24            14  False  \n",
       "2            44            35  False  \n",
       "3            39            34  False  \n",
       "4            27            19  False  "
      ]
     },
     "execution_count": 197,
     "metadata": {},
     "output_type": "execute_result"
    }
   ],
   "source": [
    "full_data.head()"
   ]
  },
  {
   "cell_type": "code",
   "execution_count": 248,
   "metadata": {
    "scrolled": true
   },
   "outputs": [
    {
     "name": "stdout",
     "output_type": "stream",
     "text": [
      "<class 'pandas.core.frame.DataFrame'>\n",
      "Int64Index: 992 entries, 0 to 991\n",
      "Data columns (total 11 columns):\n",
      "Div             992 non-null object\n",
      "Season          992 non-null int64\n",
      "Date            992 non-null object\n",
      "HomeTeam        992 non-null object\n",
      "AwayTeam        992 non-null object\n",
      "FTHG            992 non-null int64\n",
      "FTAG            992 non-null int64\n",
      "FTR             992 non-null object\n",
      "Home_team_id    992 non-null int64\n",
      "Away_Team_ID    992 non-null int64\n",
      "Rain            992 non-null bool\n",
      "dtypes: bool(1), int64(5), object(5)\n",
      "memory usage: 86.2+ KB\n"
     ]
    }
   ],
   "source": [
    "full_data.info()"
   ]
  },
  {
   "cell_type": "code",
   "execution_count": 295,
   "metadata": {},
   "outputs": [
    {
     "data": {
      "text/plain": [
       "165"
      ]
     },
     "execution_count": 295,
     "metadata": {},
     "output_type": "execute_result"
    }
   ],
   "source": [
    "len(full_data.Date.unique())"
   ]
  },
  {
   "cell_type": "code",
   "execution_count": 226,
   "metadata": {},
   "outputs": [
    {
     "data": {
      "text/plain": [
       "array(['D2', 'D1', 'E0'], dtype=object)"
      ]
     },
     "execution_count": 226,
     "metadata": {},
     "output_type": "execute_result"
    }
   ],
   "source": [
    "divisions = full_data.Div.unique()\n",
    "di"
   ]
  },
  {
   "cell_type": "code",
   "execution_count": 217,
   "metadata": {},
   "outputs": [
    {
     "data": {
      "text/plain": [
       "['Cottbus', 'Greuther Furth', 'Frankfurt FSV', 'Erzgebirge Aue']"
      ]
     },
     "execution_count": 217,
     "metadata": {},
     "output_type": "execute_result"
    }
   ],
   "source": [
    "#creating a log for eaech team\n",
    "unique_teams = full_data['HomeTeam'].unique()\n",
    "\n",
    "unique_teams = list(unique_teams)\n",
    "unique_teams[:4]"
   ]
  },
  {
   "cell_type": "code",
   "execution_count": 251,
   "metadata": {},
   "outputs": [
    {
     "data": {
      "text/plain": [
       "992"
      ]
     },
     "execution_count": 251,
     "metadata": {},
     "output_type": "execute_result"
    }
   ],
   "source": [
    "len(full_data)"
   ]
  },
  {
   "cell_type": "code",
   "execution_count": 254,
   "metadata": {},
   "outputs": [],
   "source": [
    "team_games = full_data.query(\"HomeTeam == 'Cottbus' or AwayTeam == 'Cottbus'\")"
   ]
  },
  {
   "cell_type": "code",
   "execution_count": 255,
   "metadata": {},
   "outputs": [
    {
     "data": {
      "text/html": [
       "<div>\n",
       "<style scoped>\n",
       "    .dataframe tbody tr th:only-of-type {\n",
       "        vertical-align: middle;\n",
       "    }\n",
       "\n",
       "    .dataframe tbody tr th {\n",
       "        vertical-align: top;\n",
       "    }\n",
       "\n",
       "    .dataframe thead th {\n",
       "        text-align: right;\n",
       "    }\n",
       "</style>\n",
       "<table border=\"1\" class=\"dataframe\">\n",
       "  <thead>\n",
       "    <tr style=\"text-align: right;\">\n",
       "      <th></th>\n",
       "      <th>Div</th>\n",
       "      <th>Season</th>\n",
       "      <th>Date</th>\n",
       "      <th>HomeTeam</th>\n",
       "      <th>AwayTeam</th>\n",
       "      <th>FTHG</th>\n",
       "      <th>FTAG</th>\n",
       "      <th>FTR</th>\n",
       "      <th>Home_team_id</th>\n",
       "      <th>Away_Team_ID</th>\n",
       "      <th>Rain</th>\n",
       "    </tr>\n",
       "  </thead>\n",
       "  <tbody>\n",
       "    <tr>\n",
       "      <th>0</th>\n",
       "      <td>D2</td>\n",
       "      <td>2011</td>\n",
       "      <td>2011-07-15</td>\n",
       "      <td>Cottbus</td>\n",
       "      <td>Dresden</td>\n",
       "      <td>2</td>\n",
       "      <td>1</td>\n",
       "      <td>H</td>\n",
       "      <td>31</td>\n",
       "      <td>37</td>\n",
       "      <td>False</td>\n",
       "    </tr>\n",
       "    <tr>\n",
       "      <th>9</th>\n",
       "      <td>D2</td>\n",
       "      <td>2011</td>\n",
       "      <td>2011-07-22</td>\n",
       "      <td>Duisburg</td>\n",
       "      <td>Cottbus</td>\n",
       "      <td>1</td>\n",
       "      <td>2</td>\n",
       "      <td>A</td>\n",
       "      <td>32</td>\n",
       "      <td>31</td>\n",
       "      <td>True</td>\n",
       "    </tr>\n",
       "    <tr>\n",
       "      <th>27</th>\n",
       "      <td>D2</td>\n",
       "      <td>2011</td>\n",
       "      <td>2011-08-06</td>\n",
       "      <td>Cottbus</td>\n",
       "      <td>Munich 1860</td>\n",
       "      <td>0</td>\n",
       "      <td>5</td>\n",
       "      <td>A</td>\n",
       "      <td>31</td>\n",
       "      <td>42</td>\n",
       "      <td>True</td>\n",
       "    </tr>\n",
       "    <tr>\n",
       "      <th>46</th>\n",
       "      <td>D2</td>\n",
       "      <td>2011</td>\n",
       "      <td>2011-08-13</td>\n",
       "      <td>Aachen</td>\n",
       "      <td>Cottbus</td>\n",
       "      <td>0</td>\n",
       "      <td>2</td>\n",
       "      <td>A</td>\n",
       "      <td>34</td>\n",
       "      <td>31</td>\n",
       "      <td>False</td>\n",
       "    </tr>\n",
       "    <tr>\n",
       "      <th>82</th>\n",
       "      <td>D2</td>\n",
       "      <td>2011</td>\n",
       "      <td>2011-08-21</td>\n",
       "      <td>Cottbus</td>\n",
       "      <td>Karlsruhe</td>\n",
       "      <td>2</td>\n",
       "      <td>0</td>\n",
       "      <td>H</td>\n",
       "      <td>31</td>\n",
       "      <td>29</td>\n",
       "      <td>False</td>\n",
       "    </tr>\n",
       "    <tr>\n",
       "      <th>118</th>\n",
       "      <td>D2</td>\n",
       "      <td>2011</td>\n",
       "      <td>2011-08-29</td>\n",
       "      <td>Erzgebirge Aue</td>\n",
       "      <td>Cottbus</td>\n",
       "      <td>0</td>\n",
       "      <td>0</td>\n",
       "      <td>D</td>\n",
       "      <td>39</td>\n",
       "      <td>31</td>\n",
       "      <td>True</td>\n",
       "    </tr>\n",
       "    <tr>\n",
       "      <th>123</th>\n",
       "      <td>D2</td>\n",
       "      <td>2011</td>\n",
       "      <td>2011-09-10</td>\n",
       "      <td>Cottbus</td>\n",
       "      <td>Ein Frankfurt</td>\n",
       "      <td>3</td>\n",
       "      <td>3</td>\n",
       "      <td>D</td>\n",
       "      <td>31</td>\n",
       "      <td>14</td>\n",
       "      <td>True</td>\n",
       "    </tr>\n",
       "    <tr>\n",
       "      <th>156</th>\n",
       "      <td>D2</td>\n",
       "      <td>2011</td>\n",
       "      <td>2011-09-17</td>\n",
       "      <td>Braunschweig</td>\n",
       "      <td>Cottbus</td>\n",
       "      <td>3</td>\n",
       "      <td>1</td>\n",
       "      <td>H</td>\n",
       "      <td>23</td>\n",
       "      <td>31</td>\n",
       "      <td>False</td>\n",
       "    </tr>\n",
       "    <tr>\n",
       "      <th>185</th>\n",
       "      <td>D2</td>\n",
       "      <td>2011</td>\n",
       "      <td>2011-09-24</td>\n",
       "      <td>Fortuna Dusseldorf</td>\n",
       "      <td>Cottbus</td>\n",
       "      <td>4</td>\n",
       "      <td>2</td>\n",
       "      <td>H</td>\n",
       "      <td>25</td>\n",
       "      <td>31</td>\n",
       "      <td>False</td>\n",
       "    </tr>\n",
       "    <tr>\n",
       "      <th>211</th>\n",
       "      <td>D2</td>\n",
       "      <td>2011</td>\n",
       "      <td>2011-10-01</td>\n",
       "      <td>Cottbus</td>\n",
       "      <td>St Pauli</td>\n",
       "      <td>1</td>\n",
       "      <td>4</td>\n",
       "      <td>A</td>\n",
       "      <td>31</td>\n",
       "      <td>27</td>\n",
       "      <td>False</td>\n",
       "    </tr>\n",
       "    <tr>\n",
       "      <th>252</th>\n",
       "      <td>D2</td>\n",
       "      <td>2011</td>\n",
       "      <td>2011-10-16</td>\n",
       "      <td>Frankfurt FSV</td>\n",
       "      <td>Cottbus</td>\n",
       "      <td>0</td>\n",
       "      <td>1</td>\n",
       "      <td>A</td>\n",
       "      <td>44</td>\n",
       "      <td>31</td>\n",
       "      <td>True</td>\n",
       "    </tr>\n",
       "    <tr>\n",
       "      <th>270</th>\n",
       "      <td>D2</td>\n",
       "      <td>2011</td>\n",
       "      <td>2011-10-22</td>\n",
       "      <td>Cottbus</td>\n",
       "      <td>Greuther Furth</td>\n",
       "      <td>0</td>\n",
       "      <td>2</td>\n",
       "      <td>A</td>\n",
       "      <td>31</td>\n",
       "      <td>24</td>\n",
       "      <td>False</td>\n",
       "    </tr>\n",
       "    <tr>\n",
       "      <th>289</th>\n",
       "      <td>D2</td>\n",
       "      <td>2011</td>\n",
       "      <td>2011-10-28</td>\n",
       "      <td>Hansa Rostock</td>\n",
       "      <td>Cottbus</td>\n",
       "      <td>1</td>\n",
       "      <td>1</td>\n",
       "      <td>D</td>\n",
       "      <td>33</td>\n",
       "      <td>31</td>\n",
       "      <td>False</td>\n",
       "    </tr>\n",
       "    <tr>\n",
       "      <th>338</th>\n",
       "      <td>D2</td>\n",
       "      <td>2011</td>\n",
       "      <td>2011-11-06</td>\n",
       "      <td>Cottbus</td>\n",
       "      <td>Paderborn</td>\n",
       "      <td>0</td>\n",
       "      <td>2</td>\n",
       "      <td>A</td>\n",
       "      <td>31</td>\n",
       "      <td>21</td>\n",
       "      <td>True</td>\n",
       "    </tr>\n",
       "    <tr>\n",
       "      <th>368</th>\n",
       "      <td>D2</td>\n",
       "      <td>2011</td>\n",
       "      <td>2011-11-21</td>\n",
       "      <td>Bochum</td>\n",
       "      <td>Cottbus</td>\n",
       "      <td>0</td>\n",
       "      <td>1</td>\n",
       "      <td>A</td>\n",
       "      <td>28</td>\n",
       "      <td>31</td>\n",
       "      <td>False</td>\n",
       "    </tr>\n",
       "    <tr>\n",
       "      <th>394</th>\n",
       "      <td>D2</td>\n",
       "      <td>2011</td>\n",
       "      <td>2011-11-27</td>\n",
       "      <td>Cottbus</td>\n",
       "      <td>Ingolstadt</td>\n",
       "      <td>0</td>\n",
       "      <td>0</td>\n",
       "      <td>D</td>\n",
       "      <td>31</td>\n",
       "      <td>19</td>\n",
       "      <td>False</td>\n",
       "    </tr>\n",
       "    <tr>\n",
       "      <th>399</th>\n",
       "      <td>D2</td>\n",
       "      <td>2011</td>\n",
       "      <td>2011-12-02</td>\n",
       "      <td>Union Berlin</td>\n",
       "      <td>Cottbus</td>\n",
       "      <td>1</td>\n",
       "      <td>0</td>\n",
       "      <td>H</td>\n",
       "      <td>35</td>\n",
       "      <td>31</td>\n",
       "      <td>True</td>\n",
       "    </tr>\n",
       "    <tr>\n",
       "      <th>448</th>\n",
       "      <td>D2</td>\n",
       "      <td>2011</td>\n",
       "      <td>2011-12-11</td>\n",
       "      <td>Dresden</td>\n",
       "      <td>Cottbus</td>\n",
       "      <td>2</td>\n",
       "      <td>1</td>\n",
       "      <td>H</td>\n",
       "      <td>37</td>\n",
       "      <td>31</td>\n",
       "      <td>False</td>\n",
       "    </tr>\n",
       "    <tr>\n",
       "      <th>474</th>\n",
       "      <td>D2</td>\n",
       "      <td>2011</td>\n",
       "      <td>2011-12-18</td>\n",
       "      <td>Cottbus</td>\n",
       "      <td>Duisburg</td>\n",
       "      <td>1</td>\n",
       "      <td>1</td>\n",
       "      <td>D</td>\n",
       "      <td>31</td>\n",
       "      <td>32</td>\n",
       "      <td>True</td>\n",
       "    </tr>\n",
       "    <tr>\n",
       "      <th>598</th>\n",
       "      <td>D2</td>\n",
       "      <td>2011</td>\n",
       "      <td>2012-02-06</td>\n",
       "      <td>Munich 1860</td>\n",
       "      <td>Cottbus</td>\n",
       "      <td>2</td>\n",
       "      <td>0</td>\n",
       "      <td>H</td>\n",
       "      <td>42</td>\n",
       "      <td>31</td>\n",
       "      <td>False</td>\n",
       "    </tr>\n",
       "    <tr>\n",
       "      <th>601</th>\n",
       "      <td>D2</td>\n",
       "      <td>2011</td>\n",
       "      <td>2012-02-10</td>\n",
       "      <td>Cottbus</td>\n",
       "      <td>Aachen</td>\n",
       "      <td>1</td>\n",
       "      <td>1</td>\n",
       "      <td>D</td>\n",
       "      <td>31</td>\n",
       "      <td>34</td>\n",
       "      <td>False</td>\n",
       "    </tr>\n",
       "    <tr>\n",
       "      <th>630</th>\n",
       "      <td>D2</td>\n",
       "      <td>2011</td>\n",
       "      <td>2012-02-17</td>\n",
       "      <td>Karlsruhe</td>\n",
       "      <td>Cottbus</td>\n",
       "      <td>2</td>\n",
       "      <td>0</td>\n",
       "      <td>H</td>\n",
       "      <td>29</td>\n",
       "      <td>31</td>\n",
       "      <td>True</td>\n",
       "    </tr>\n",
       "    <tr>\n",
       "      <th>655</th>\n",
       "      <td>D2</td>\n",
       "      <td>2011</td>\n",
       "      <td>2012-02-25</td>\n",
       "      <td>Cottbus</td>\n",
       "      <td>Erzgebirge Aue</td>\n",
       "      <td>2</td>\n",
       "      <td>0</td>\n",
       "      <td>H</td>\n",
       "      <td>31</td>\n",
       "      <td>39</td>\n",
       "      <td>False</td>\n",
       "    </tr>\n",
       "    <tr>\n",
       "      <th>694</th>\n",
       "      <td>D2</td>\n",
       "      <td>2011</td>\n",
       "      <td>2012-03-04</td>\n",
       "      <td>Ein Frankfurt</td>\n",
       "      <td>Cottbus</td>\n",
       "      <td>1</td>\n",
       "      <td>0</td>\n",
       "      <td>H</td>\n",
       "      <td>14</td>\n",
       "      <td>31</td>\n",
       "      <td>False</td>\n",
       "    </tr>\n",
       "    <tr>\n",
       "      <th>721</th>\n",
       "      <td>D2</td>\n",
       "      <td>2011</td>\n",
       "      <td>2012-03-11</td>\n",
       "      <td>Cottbus</td>\n",
       "      <td>Braunschweig</td>\n",
       "      <td>1</td>\n",
       "      <td>1</td>\n",
       "      <td>D</td>\n",
       "      <td>31</td>\n",
       "      <td>23</td>\n",
       "      <td>False</td>\n",
       "    </tr>\n",
       "    <tr>\n",
       "      <th>751</th>\n",
       "      <td>D2</td>\n",
       "      <td>2011</td>\n",
       "      <td>2012-03-19</td>\n",
       "      <td>Cottbus</td>\n",
       "      <td>Fortuna Dusseldorf</td>\n",
       "      <td>1</td>\n",
       "      <td>1</td>\n",
       "      <td>D</td>\n",
       "      <td>31</td>\n",
       "      <td>25</td>\n",
       "      <td>False</td>\n",
       "    </tr>\n",
       "    <tr>\n",
       "      <th>780</th>\n",
       "      <td>D2</td>\n",
       "      <td>2011</td>\n",
       "      <td>2012-03-25</td>\n",
       "      <td>St Pauli</td>\n",
       "      <td>Cottbus</td>\n",
       "      <td>0</td>\n",
       "      <td>0</td>\n",
       "      <td>D</td>\n",
       "      <td>27</td>\n",
       "      <td>31</td>\n",
       "      <td>False</td>\n",
       "    </tr>\n",
       "    <tr>\n",
       "      <th>808</th>\n",
       "      <td>D2</td>\n",
       "      <td>2011</td>\n",
       "      <td>2012-04-01</td>\n",
       "      <td>Cottbus</td>\n",
       "      <td>Frankfurt FSV</td>\n",
       "      <td>1</td>\n",
       "      <td>1</td>\n",
       "      <td>D</td>\n",
       "      <td>31</td>\n",
       "      <td>44</td>\n",
       "      <td>False</td>\n",
       "    </tr>\n",
       "    <tr>\n",
       "      <th>813</th>\n",
       "      <td>D2</td>\n",
       "      <td>2011</td>\n",
       "      <td>2012-04-05</td>\n",
       "      <td>Greuther Furth</td>\n",
       "      <td>Cottbus</td>\n",
       "      <td>3</td>\n",
       "      <td>0</td>\n",
       "      <td>H</td>\n",
       "      <td>24</td>\n",
       "      <td>31</td>\n",
       "      <td>False</td>\n",
       "    </tr>\n",
       "    <tr>\n",
       "      <th>849</th>\n",
       "      <td>D2</td>\n",
       "      <td>2011</td>\n",
       "      <td>2012-04-10</td>\n",
       "      <td>Cottbus</td>\n",
       "      <td>Hansa Rostock</td>\n",
       "      <td>0</td>\n",
       "      <td>1</td>\n",
       "      <td>A</td>\n",
       "      <td>31</td>\n",
       "      <td>33</td>\n",
       "      <td>False</td>\n",
       "    </tr>\n",
       "    <tr>\n",
       "      <th>888</th>\n",
       "      <td>D2</td>\n",
       "      <td>2011</td>\n",
       "      <td>2012-04-15</td>\n",
       "      <td>Paderborn</td>\n",
       "      <td>Cottbus</td>\n",
       "      <td>3</td>\n",
       "      <td>1</td>\n",
       "      <td>H</td>\n",
       "      <td>21</td>\n",
       "      <td>31</td>\n",
       "      <td>False</td>\n",
       "    </tr>\n",
       "    <tr>\n",
       "      <th>894</th>\n",
       "      <td>D2</td>\n",
       "      <td>2011</td>\n",
       "      <td>2012-04-20</td>\n",
       "      <td>Cottbus</td>\n",
       "      <td>Bochum</td>\n",
       "      <td>1</td>\n",
       "      <td>1</td>\n",
       "      <td>D</td>\n",
       "      <td>31</td>\n",
       "      <td>28</td>\n",
       "      <td>False</td>\n",
       "    </tr>\n",
       "    <tr>\n",
       "      <th>942</th>\n",
       "      <td>D2</td>\n",
       "      <td>2011</td>\n",
       "      <td>2012-04-29</td>\n",
       "      <td>Ingolstadt</td>\n",
       "      <td>Cottbus</td>\n",
       "      <td>1</td>\n",
       "      <td>0</td>\n",
       "      <td>H</td>\n",
       "      <td>19</td>\n",
       "      <td>31</td>\n",
       "      <td>False</td>\n",
       "    </tr>\n",
       "    <tr>\n",
       "      <th>970</th>\n",
       "      <td>D2</td>\n",
       "      <td>2011</td>\n",
       "      <td>2012-05-06</td>\n",
       "      <td>Cottbus</td>\n",
       "      <td>Union Berlin</td>\n",
       "      <td>2</td>\n",
       "      <td>1</td>\n",
       "      <td>H</td>\n",
       "      <td>31</td>\n",
       "      <td>35</td>\n",
       "      <td>True</td>\n",
       "    </tr>\n",
       "  </tbody>\n",
       "</table>\n",
       "</div>"
      ],
      "text/plain": [
       "    Div  Season        Date            HomeTeam            AwayTeam  FTHG  \\\n",
       "0    D2    2011  2011-07-15             Cottbus             Dresden     2   \n",
       "9    D2    2011  2011-07-22            Duisburg             Cottbus     1   \n",
       "27   D2    2011  2011-08-06             Cottbus         Munich 1860     0   \n",
       "46   D2    2011  2011-08-13              Aachen             Cottbus     0   \n",
       "82   D2    2011  2011-08-21             Cottbus           Karlsruhe     2   \n",
       "118  D2    2011  2011-08-29      Erzgebirge Aue             Cottbus     0   \n",
       "123  D2    2011  2011-09-10             Cottbus       Ein Frankfurt     3   \n",
       "156  D2    2011  2011-09-17        Braunschweig             Cottbus     3   \n",
       "185  D2    2011  2011-09-24  Fortuna Dusseldorf             Cottbus     4   \n",
       "211  D2    2011  2011-10-01             Cottbus            St Pauli     1   \n",
       "252  D2    2011  2011-10-16       Frankfurt FSV             Cottbus     0   \n",
       "270  D2    2011  2011-10-22             Cottbus      Greuther Furth     0   \n",
       "289  D2    2011  2011-10-28       Hansa Rostock             Cottbus     1   \n",
       "338  D2    2011  2011-11-06             Cottbus           Paderborn     0   \n",
       "368  D2    2011  2011-11-21              Bochum             Cottbus     0   \n",
       "394  D2    2011  2011-11-27             Cottbus          Ingolstadt     0   \n",
       "399  D2    2011  2011-12-02        Union Berlin             Cottbus     1   \n",
       "448  D2    2011  2011-12-11             Dresden             Cottbus     2   \n",
       "474  D2    2011  2011-12-18             Cottbus            Duisburg     1   \n",
       "598  D2    2011  2012-02-06         Munich 1860             Cottbus     2   \n",
       "601  D2    2011  2012-02-10             Cottbus              Aachen     1   \n",
       "630  D2    2011  2012-02-17           Karlsruhe             Cottbus     2   \n",
       "655  D2    2011  2012-02-25             Cottbus      Erzgebirge Aue     2   \n",
       "694  D2    2011  2012-03-04       Ein Frankfurt             Cottbus     1   \n",
       "721  D2    2011  2012-03-11             Cottbus        Braunschweig     1   \n",
       "751  D2    2011  2012-03-19             Cottbus  Fortuna Dusseldorf     1   \n",
       "780  D2    2011  2012-03-25            St Pauli             Cottbus     0   \n",
       "808  D2    2011  2012-04-01             Cottbus       Frankfurt FSV     1   \n",
       "813  D2    2011  2012-04-05      Greuther Furth             Cottbus     3   \n",
       "849  D2    2011  2012-04-10             Cottbus       Hansa Rostock     0   \n",
       "888  D2    2011  2012-04-15           Paderborn             Cottbus     3   \n",
       "894  D2    2011  2012-04-20             Cottbus              Bochum     1   \n",
       "942  D2    2011  2012-04-29          Ingolstadt             Cottbus     1   \n",
       "970  D2    2011  2012-05-06             Cottbus        Union Berlin     2   \n",
       "\n",
       "     FTAG FTR  Home_team_id  Away_Team_ID   Rain  \n",
       "0       1   H            31            37  False  \n",
       "9       2   A            32            31   True  \n",
       "27      5   A            31            42   True  \n",
       "46      2   A            34            31  False  \n",
       "82      0   H            31            29  False  \n",
       "118     0   D            39            31   True  \n",
       "123     3   D            31            14   True  \n",
       "156     1   H            23            31  False  \n",
       "185     2   H            25            31  False  \n",
       "211     4   A            31            27  False  \n",
       "252     1   A            44            31   True  \n",
       "270     2   A            31            24  False  \n",
       "289     1   D            33            31  False  \n",
       "338     2   A            31            21   True  \n",
       "368     1   A            28            31  False  \n",
       "394     0   D            31            19  False  \n",
       "399     0   H            35            31   True  \n",
       "448     1   H            37            31  False  \n",
       "474     1   D            31            32   True  \n",
       "598     0   H            42            31  False  \n",
       "601     1   D            31            34  False  \n",
       "630     0   H            29            31   True  \n",
       "655     0   H            31            39  False  \n",
       "694     0   H            14            31  False  \n",
       "721     1   D            31            23  False  \n",
       "751     1   D            31            25  False  \n",
       "780     0   D            27            31  False  \n",
       "808     1   D            31            44  False  \n",
       "813     0   H            24            31  False  \n",
       "849     1   A            31            33  False  \n",
       "888     1   H            21            31  False  \n",
       "894     1   D            31            28  False  \n",
       "942     0   H            19            31  False  \n",
       "970     1   H            31            35   True  "
      ]
     },
     "execution_count": 255,
     "metadata": {},
     "output_type": "execute_result"
    }
   ],
   "source": [
    "team_games"
   ]
  },
  {
   "cell_type": "code",
   "execution_count": 237,
   "metadata": {},
   "outputs": [],
   "source": [
    "team_goals = full_data.query(\"HomeTeam == 'Cottbus'\")['FTHG'].sum() + full_data.query(\"AwayTeam == 'Cottbus'\")['FTAG'].sum()"
   ]
  },
  {
   "cell_type": "code",
   "execution_count": 238,
   "metadata": {
    "scrolled": true
   },
   "outputs": [
    {
     "data": {
      "text/plain": [
       "30"
      ]
     },
     "execution_count": 238,
     "metadata": {},
     "output_type": "execute_result"
    }
   ],
   "source": [
    "team_goals"
   ]
  },
  {
   "cell_type": "code",
   "execution_count": 263,
   "metadata": {},
   "outputs": [],
   "source": [
    "loss = full_data.query(\"HomeTeam == 'Cottbus' and FTR != 'H'\")"
   ]
  },
  {
   "cell_type": "code",
   "execution_count": 264,
   "metadata": {},
   "outputs": [
    {
     "data": {
      "text/html": [
       "<div>\n",
       "<style scoped>\n",
       "    .dataframe tbody tr th:only-of-type {\n",
       "        vertical-align: middle;\n",
       "    }\n",
       "\n",
       "    .dataframe tbody tr th {\n",
       "        vertical-align: top;\n",
       "    }\n",
       "\n",
       "    .dataframe thead th {\n",
       "        text-align: right;\n",
       "    }\n",
       "</style>\n",
       "<table border=\"1\" class=\"dataframe\">\n",
       "  <thead>\n",
       "    <tr style=\"text-align: right;\">\n",
       "      <th></th>\n",
       "      <th>Div</th>\n",
       "      <th>Season</th>\n",
       "      <th>Date</th>\n",
       "      <th>HomeTeam</th>\n",
       "      <th>AwayTeam</th>\n",
       "      <th>FTHG</th>\n",
       "      <th>FTAG</th>\n",
       "      <th>FTR</th>\n",
       "      <th>Home_team_id</th>\n",
       "      <th>Away_Team_ID</th>\n",
       "      <th>Rain</th>\n",
       "    </tr>\n",
       "  </thead>\n",
       "  <tbody>\n",
       "    <tr>\n",
       "      <th>27</th>\n",
       "      <td>D2</td>\n",
       "      <td>2011</td>\n",
       "      <td>2011-08-06</td>\n",
       "      <td>Cottbus</td>\n",
       "      <td>Munich 1860</td>\n",
       "      <td>0</td>\n",
       "      <td>5</td>\n",
       "      <td>A</td>\n",
       "      <td>31</td>\n",
       "      <td>42</td>\n",
       "      <td>True</td>\n",
       "    </tr>\n",
       "    <tr>\n",
       "      <th>123</th>\n",
       "      <td>D2</td>\n",
       "      <td>2011</td>\n",
       "      <td>2011-09-10</td>\n",
       "      <td>Cottbus</td>\n",
       "      <td>Ein Frankfurt</td>\n",
       "      <td>3</td>\n",
       "      <td>3</td>\n",
       "      <td>D</td>\n",
       "      <td>31</td>\n",
       "      <td>14</td>\n",
       "      <td>True</td>\n",
       "    </tr>\n",
       "    <tr>\n",
       "      <th>211</th>\n",
       "      <td>D2</td>\n",
       "      <td>2011</td>\n",
       "      <td>2011-10-01</td>\n",
       "      <td>Cottbus</td>\n",
       "      <td>St Pauli</td>\n",
       "      <td>1</td>\n",
       "      <td>4</td>\n",
       "      <td>A</td>\n",
       "      <td>31</td>\n",
       "      <td>27</td>\n",
       "      <td>False</td>\n",
       "    </tr>\n",
       "    <tr>\n",
       "      <th>270</th>\n",
       "      <td>D2</td>\n",
       "      <td>2011</td>\n",
       "      <td>2011-10-22</td>\n",
       "      <td>Cottbus</td>\n",
       "      <td>Greuther Furth</td>\n",
       "      <td>0</td>\n",
       "      <td>2</td>\n",
       "      <td>A</td>\n",
       "      <td>31</td>\n",
       "      <td>24</td>\n",
       "      <td>False</td>\n",
       "    </tr>\n",
       "    <tr>\n",
       "      <th>338</th>\n",
       "      <td>D2</td>\n",
       "      <td>2011</td>\n",
       "      <td>2011-11-06</td>\n",
       "      <td>Cottbus</td>\n",
       "      <td>Paderborn</td>\n",
       "      <td>0</td>\n",
       "      <td>2</td>\n",
       "      <td>A</td>\n",
       "      <td>31</td>\n",
       "      <td>21</td>\n",
       "      <td>True</td>\n",
       "    </tr>\n",
       "    <tr>\n",
       "      <th>394</th>\n",
       "      <td>D2</td>\n",
       "      <td>2011</td>\n",
       "      <td>2011-11-27</td>\n",
       "      <td>Cottbus</td>\n",
       "      <td>Ingolstadt</td>\n",
       "      <td>0</td>\n",
       "      <td>0</td>\n",
       "      <td>D</td>\n",
       "      <td>31</td>\n",
       "      <td>19</td>\n",
       "      <td>False</td>\n",
       "    </tr>\n",
       "    <tr>\n",
       "      <th>474</th>\n",
       "      <td>D2</td>\n",
       "      <td>2011</td>\n",
       "      <td>2011-12-18</td>\n",
       "      <td>Cottbus</td>\n",
       "      <td>Duisburg</td>\n",
       "      <td>1</td>\n",
       "      <td>1</td>\n",
       "      <td>D</td>\n",
       "      <td>31</td>\n",
       "      <td>32</td>\n",
       "      <td>True</td>\n",
       "    </tr>\n",
       "    <tr>\n",
       "      <th>601</th>\n",
       "      <td>D2</td>\n",
       "      <td>2011</td>\n",
       "      <td>2012-02-10</td>\n",
       "      <td>Cottbus</td>\n",
       "      <td>Aachen</td>\n",
       "      <td>1</td>\n",
       "      <td>1</td>\n",
       "      <td>D</td>\n",
       "      <td>31</td>\n",
       "      <td>34</td>\n",
       "      <td>False</td>\n",
       "    </tr>\n",
       "    <tr>\n",
       "      <th>721</th>\n",
       "      <td>D2</td>\n",
       "      <td>2011</td>\n",
       "      <td>2012-03-11</td>\n",
       "      <td>Cottbus</td>\n",
       "      <td>Braunschweig</td>\n",
       "      <td>1</td>\n",
       "      <td>1</td>\n",
       "      <td>D</td>\n",
       "      <td>31</td>\n",
       "      <td>23</td>\n",
       "      <td>False</td>\n",
       "    </tr>\n",
       "    <tr>\n",
       "      <th>751</th>\n",
       "      <td>D2</td>\n",
       "      <td>2011</td>\n",
       "      <td>2012-03-19</td>\n",
       "      <td>Cottbus</td>\n",
       "      <td>Fortuna Dusseldorf</td>\n",
       "      <td>1</td>\n",
       "      <td>1</td>\n",
       "      <td>D</td>\n",
       "      <td>31</td>\n",
       "      <td>25</td>\n",
       "      <td>False</td>\n",
       "    </tr>\n",
       "    <tr>\n",
       "      <th>808</th>\n",
       "      <td>D2</td>\n",
       "      <td>2011</td>\n",
       "      <td>2012-04-01</td>\n",
       "      <td>Cottbus</td>\n",
       "      <td>Frankfurt FSV</td>\n",
       "      <td>1</td>\n",
       "      <td>1</td>\n",
       "      <td>D</td>\n",
       "      <td>31</td>\n",
       "      <td>44</td>\n",
       "      <td>False</td>\n",
       "    </tr>\n",
       "    <tr>\n",
       "      <th>849</th>\n",
       "      <td>D2</td>\n",
       "      <td>2011</td>\n",
       "      <td>2012-04-10</td>\n",
       "      <td>Cottbus</td>\n",
       "      <td>Hansa Rostock</td>\n",
       "      <td>0</td>\n",
       "      <td>1</td>\n",
       "      <td>A</td>\n",
       "      <td>31</td>\n",
       "      <td>33</td>\n",
       "      <td>False</td>\n",
       "    </tr>\n",
       "    <tr>\n",
       "      <th>894</th>\n",
       "      <td>D2</td>\n",
       "      <td>2011</td>\n",
       "      <td>2012-04-20</td>\n",
       "      <td>Cottbus</td>\n",
       "      <td>Bochum</td>\n",
       "      <td>1</td>\n",
       "      <td>1</td>\n",
       "      <td>D</td>\n",
       "      <td>31</td>\n",
       "      <td>28</td>\n",
       "      <td>False</td>\n",
       "    </tr>\n",
       "  </tbody>\n",
       "</table>\n",
       "</div>"
      ],
      "text/plain": [
       "    Div  Season        Date HomeTeam            AwayTeam  FTHG  FTAG FTR  \\\n",
       "27   D2    2011  2011-08-06  Cottbus         Munich 1860     0     5   A   \n",
       "123  D2    2011  2011-09-10  Cottbus       Ein Frankfurt     3     3   D   \n",
       "211  D2    2011  2011-10-01  Cottbus            St Pauli     1     4   A   \n",
       "270  D2    2011  2011-10-22  Cottbus      Greuther Furth     0     2   A   \n",
       "338  D2    2011  2011-11-06  Cottbus           Paderborn     0     2   A   \n",
       "394  D2    2011  2011-11-27  Cottbus          Ingolstadt     0     0   D   \n",
       "474  D2    2011  2011-12-18  Cottbus            Duisburg     1     1   D   \n",
       "601  D2    2011  2012-02-10  Cottbus              Aachen     1     1   D   \n",
       "721  D2    2011  2012-03-11  Cottbus        Braunschweig     1     1   D   \n",
       "751  D2    2011  2012-03-19  Cottbus  Fortuna Dusseldorf     1     1   D   \n",
       "808  D2    2011  2012-04-01  Cottbus       Frankfurt FSV     1     1   D   \n",
       "849  D2    2011  2012-04-10  Cottbus       Hansa Rostock     0     1   A   \n",
       "894  D2    2011  2012-04-20  Cottbus              Bochum     1     1   D   \n",
       "\n",
       "     Home_team_id  Away_Team_ID   Rain  \n",
       "27             31            42   True  \n",
       "123            31            14   True  \n",
       "211            31            27  False  \n",
       "270            31            24  False  \n",
       "338            31            21   True  \n",
       "394            31            19  False  \n",
       "474            31            32   True  \n",
       "601            31            34  False  \n",
       "721            31            23  False  \n",
       "751            31            25  False  \n",
       "808            31            44  False  \n",
       "849            31            33  False  \n",
       "894            31            28  False  "
      ]
     },
     "execution_count": 264,
     "metadata": {},
     "output_type": "execute_result"
    }
   ],
   "source": [
    "loss"
   ]
  },
  {
   "cell_type": "code",
   "execution_count": 312,
   "metadata": {
    "scrolled": true
   },
   "outputs": [],
   "source": [
    "team_losses = len(full_data.query(\"HomeTeam == 'Cottbus' & FTR != 'H'\")) + len(full_data.query(\"AwayTeam == 'Cottbus' & FTR != 'A'\"))"
   ]
  },
  {
   "cell_type": "code",
   "execution_count": 314,
   "metadata": {},
   "outputs": [
    {
     "data": {
      "text/plain": [
       "int"
      ]
     },
     "execution_count": 314,
     "metadata": {},
     "output_type": "execute_result"
    }
   ],
   "source": [
    "type(team_losses)"
   ]
  },
  {
   "cell_type": "code",
   "execution_count": 284,
   "metadata": {},
   "outputs": [
    {
     "data": {
      "text/html": [
       "<div>\n",
       "<style scoped>\n",
       "    .dataframe tbody tr th:only-of-type {\n",
       "        vertical-align: middle;\n",
       "    }\n",
       "\n",
       "    .dataframe tbody tr th {\n",
       "        vertical-align: top;\n",
       "    }\n",
       "\n",
       "    .dataframe thead th {\n",
       "        text-align: right;\n",
       "    }\n",
       "</style>\n",
       "<table border=\"1\" class=\"dataframe\">\n",
       "  <thead>\n",
       "    <tr style=\"text-align: right;\">\n",
       "      <th></th>\n",
       "      <th>Div</th>\n",
       "      <th>Season</th>\n",
       "      <th>Date</th>\n",
       "      <th>HomeTeam</th>\n",
       "      <th>AwayTeam</th>\n",
       "      <th>FTHG</th>\n",
       "      <th>FTAG</th>\n",
       "      <th>FTR</th>\n",
       "      <th>Home_team_id</th>\n",
       "      <th>Away_Team_ID</th>\n",
       "      <th>Rain</th>\n",
       "    </tr>\n",
       "  </thead>\n",
       "  <tbody>\n",
       "    <tr>\n",
       "      <th>9</th>\n",
       "      <td>D2</td>\n",
       "      <td>2011</td>\n",
       "      <td>2011-07-22</td>\n",
       "      <td>Duisburg</td>\n",
       "      <td>Cottbus</td>\n",
       "      <td>1</td>\n",
       "      <td>2</td>\n",
       "      <td>A</td>\n",
       "      <td>32</td>\n",
       "      <td>31</td>\n",
       "      <td>True</td>\n",
       "    </tr>\n",
       "    <tr>\n",
       "      <th>252</th>\n",
       "      <td>D2</td>\n",
       "      <td>2011</td>\n",
       "      <td>2011-10-16</td>\n",
       "      <td>Frankfurt FSV</td>\n",
       "      <td>Cottbus</td>\n",
       "      <td>0</td>\n",
       "      <td>1</td>\n",
       "      <td>A</td>\n",
       "      <td>44</td>\n",
       "      <td>31</td>\n",
       "      <td>True</td>\n",
       "    </tr>\n",
       "    <tr>\n",
       "      <th>970</th>\n",
       "      <td>D2</td>\n",
       "      <td>2011</td>\n",
       "      <td>2012-05-06</td>\n",
       "      <td>Cottbus</td>\n",
       "      <td>Union Berlin</td>\n",
       "      <td>2</td>\n",
       "      <td>1</td>\n",
       "      <td>H</td>\n",
       "      <td>31</td>\n",
       "      <td>35</td>\n",
       "      <td>True</td>\n",
       "    </tr>\n",
       "  </tbody>\n",
       "</table>\n",
       "</div>"
      ],
      "text/plain": [
       "    Div  Season        Date       HomeTeam      AwayTeam  FTHG  FTAG FTR  \\\n",
       "9    D2    2011  2011-07-22       Duisburg       Cottbus     1     2   A   \n",
       "252  D2    2011  2011-10-16  Frankfurt FSV       Cottbus     0     1   A   \n",
       "970  D2    2011  2012-05-06        Cottbus  Union Berlin     2     1   H   \n",
       "\n",
       "     Home_team_id  Away_Team_ID  Rain  \n",
       "9              32            31  True  \n",
       "252            44            31  True  \n",
       "970            31            35  True  "
      ]
     },
     "execution_count": 284,
     "metadata": {},
     "output_type": "execute_result"
    }
   ],
   "source": [
    "dbg = full_data.query(\"(HomeTeam == 'Cottbus' & FTR == 'H' & Rain == True) | (AwayTeam == 'Cottbus' & FTR == 'A' & Rain == True)\")\n",
    "dbg"
   ]
  },
  {
   "cell_type": "code",
   "execution_count": null,
   "metadata": {},
   "outputs": [],
   "source": [
    "rain_wins = len(full_data.query(\"HomeTeam == 'Cottbus' & FTR == 'H' & Rain == True\")) + len(full_data.query(\"AwayTeam == 'Cottbus' & FTR == 'A' & Rain == True\"))"
   ]
  },
  {
   "cell_type": "code",
   "execution_count": 272,
   "metadata": {
    "scrolled": true
   },
   "outputs": [
    {
     "data": {
      "text/plain": [
       "26"
      ]
     },
     "execution_count": 272,
     "metadata": {},
     "output_type": "execute_result"
    }
   ],
   "source": [
    "team_losses"
   ]
  },
  {
   "cell_type": "code",
   "execution_count": 375,
   "metadata": {
    "scrolled": true
   },
   "outputs": [
    {
     "data": {
      "text/plain": [
       "Series([], Name: OverallMarketValueHome, dtype: object)"
      ]
     },
     "execution_count": 375,
     "metadata": {},
     "output_type": "execute_result"
    }
   ],
   "source": [
    "teams.query(\"TeamName == 'Blackburn'\")['OverallMarketValueHome']"
   ]
  },
  {
   "cell_type": "code",
   "execution_count": 370,
   "metadata": {},
   "outputs": [
    {
     "data": {
      "text/plain": [
       "array(['22550000'], dtype=object)"
      ]
     },
     "execution_count": 370,
     "metadata": {},
     "output_type": "execute_result"
    }
   ],
   "source": [
    "teams[teams['TeamName']=='Cottbus']['OverallMarketValueHome'].values"
   ]
  },
  {
   "cell_type": "code",
   "execution_count": 454,
   "metadata": {},
   "outputs": [],
   "source": [
    "team_data = {}\n",
    "for team in unique_teams:\n",
    "    data = {'total_matches': int(len(full_data.query(\"HomeTeam == @team or AwayTeam == @team\"))) , \n",
    "            'total_wins_2011': int(len(full_data.query(\"(HomeTeam == @team & FTR == 'H') | (AwayTeam == @team & FTR == 'A')\"))),\n",
    "            'total_losses_2011': int(len(full_data.query(\"(HomeTeam == @team & FTR != 'H')|(AwayTeam == @team & FTR != 'A')\"))),\n",
    "            'total_rain_games_2011': int(len(full_data.query(\"(HomeTeam == @team or AwayTeam == @team) & (Rain == True)\"))),\n",
    "            'rain_wins_2011': int(len(full_data.query(\"(HomeTeam == @team & FTR == 'H' & Rain == True) | (AwayTeam == @team & FTR == 'A' & Rain == True)\"))),\n",
    "            'rain_losses_2011': int(len(full_data.query(\"(HomeTeam == @team & FTR != 'H' & Rain == True) | (AwayTeam == @team & FTR != 'A' & Rain == True)\"))),\n",
    "            'total_goals_2011': int(full_data.query(\"HomeTeam == @team\")['FTHG'].sum() + full_data.query(\"AwayTeam == @team\")['FTAG'].sum())}\n",
    "    team_data[team] = data\n",
    "    "
   ]
  },
  {
   "cell_type": "code",
   "execution_count": 458,
   "metadata": {
    "scrolled": true
   },
   "outputs": [],
   "source": [
    "for team in unique_teams:\n",
    "    team_data[team]['win_percentage'] = round(team_data[team]['total_wins_2011']/(team_data[team]['total_wins_2011']+team_data[team]['total_losses_2011']),2)\n",
    "    team_data[team]['rain_win_percentage'] = round(team_data[team]['rain_wins_2011']/(team_data[team]['rain_wins_2011']+team_data[team]['total_losses_2011']),2)\n",
    "for team in unique_teams:\n",
    "    try:\n",
    "        team_data[team]['team_market_value'] = int(teams.query(\"TeamName == @team\")['OverallMarketValueHome'].values)\n",
    "    except:\n",
    "        team_data[team]['team_market_value'] = 'NaN'"
   ]
  },
  {
   "cell_type": "code",
   "execution_count": 459,
   "metadata": {},
   "outputs": [
    {
     "data": {
      "text/plain": [
       "{'total_matches': 38,\n",
       " 'total_wins_2011': 20,\n",
       " 'total_losses_2011': 18,\n",
       " 'total_rain_games_2011': 12,\n",
       " 'rain_wins_2011': 9,\n",
       " 'rain_losses_2011': 3,\n",
       " 'total_goals_2011': 66,\n",
       " 'win_percentage': 0.53,\n",
       " 'rain_win_percentage': 0.33,\n",
       " 'team_market_value': 'NaN'}"
      ]
     },
     "execution_count": 459,
     "metadata": {},
     "output_type": "execute_result"
    }
   ],
   "source": [
    "team_data['Tottenham']"
   ]
  },
  {
   "cell_type": "code",
   "execution_count": 460,
   "metadata": {},
   "outputs": [
    {
     "data": {
      "text/plain": [
       "0.29411764705882354"
      ]
     },
     "execution_count": 460,
     "metadata": {},
     "output_type": "execute_result"
    }
   ],
   "source": [
    "win_prt"
   ]
  },
  {
   "cell_type": "markdown",
   "metadata": {},
   "source": [
    "# Test Visualization"
   ]
  },
  {
   "cell_type": "code",
   "execution_count": 461,
   "metadata": {
    "scrolled": true
   },
   "outputs": [
    {
     "name": "stdout",
     "output_type": "stream",
     "text": [
      "<BarContainer object of 2 artists>\n"
     ]
    },
    {
     "data": {
      "image/png": "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\n",
      "text/plain": [
       "<Figure size 432x288 with 1 Axes>"
      ]
     },
     "metadata": {
      "needs_background": "light"
     },
     "output_type": "display_data"
    }
   ],
   "source": [
    "import matplotlib.pyplot as plt\n",
    "%matplotlib inline\n",
    "\n",
    "def get_all_viz(team, show_viz=False):\n",
    "    wins_value_all = team['total_wins_2011']\n",
    "    losses_value_all = team['total_losses_2011']\n",
    "    x_all = ['wins','losses']\n",
    "    y_all = [wins_value_all,losses_value_all]\n",
    "    bar_all = plt.bar(x_all,y_all)\n",
    "    return bar_all\n",
    "\n",
    "# def get_rain_viz(team, show_viz=False):    \n",
    "#     wins_value_rain = team['rain_wins_2011']\n",
    "#     losses_value_rain = team['rain_losses_2011']\n",
    "#     x_rain = ['wins','losses']\n",
    "#     y_rain = [wins_value_rain,losses_value_rain]\n",
    "#     bar_rain = plt.bar(x_rain,y_rain)\n",
    "#     return bar_rain\n",
    "print(get_all_viz(team_data['Nurnberg']))\n"
   ]
  },
  {
   "cell_type": "code",
   "execution_count": 462,
   "metadata": {},
   "outputs": [
    {
     "data": {
      "text/plain": [
       "int"
      ]
     },
     "execution_count": 462,
     "metadata": {},
     "output_type": "execute_result"
    }
   ],
   "source": [
    "type(team_data['Nurnberg']['total_wins_2011'])"
   ]
  },
  {
   "cell_type": "code",
   "execution_count": 463,
   "metadata": {},
   "outputs": [],
   "source": [
    "class MongodbHandler(object):\n",
    "    \n",
    "    def __init__(self):\n",
    "        self.myclient = pymongo.MongoClient('mongodb://localhost:27017')\n",
    "        self.db = self.myclient['summative_lab']\n",
    "        self.coll = self.db['summative_collection']\n",
    "    \n",
    "    def data_format(self, team_name, market_value, total_games, total_goals, win_percentage, rain_win_percentage, all_viz):\n",
    "        data = {\"team_name\": team_name,\n",
    "                \"Market_Value\": market_value,\n",
    "                \"games_playes_2011\": total_games,\n",
    "                \"goals_2011\": total_goals,\n",
    "                \"win_percentage_2011\": win_percentage,\n",
    "                \"rain_win_percentage_2011\": rain_win_percentage,\n",
    "                \"win_rate_histo\": all_viz,\n",
    "                \"rain_win_rate_histo\": rain_viz}\n",
    "        return data\n",
    "    \n",
    "    def insert_record(self, record):\n",
    "        return self.coll.insert_one(data)"
   ]
  },
  {
   "cell_type": "code",
   "execution_count": 465,
   "metadata": {},
   "outputs": [
    {
     "ename": "DuplicateKeyError",
     "evalue": "E11000 duplicate key error collection: summative_lab.summative_collection index: _id_ dup key: { : ObjectId('5ddf5ae32c15e70784b65fe7') }",
     "output_type": "error",
     "traceback": [
      "\u001b[0;31m---------------------------------------------------------------------------\u001b[0m",
      "\u001b[0;31mDuplicateKeyError\u001b[0m                         Traceback (most recent call last)",
      "\u001b[0;32m<ipython-input-465-1dc26c037c47>\u001b[0m in \u001b[0;36m<module>\u001b[0;34m()\u001b[0m\n\u001b[1;32m      4\u001b[0m     \u001b[0mall_viz\u001b[0m \u001b[0;34m=\u001b[0m \u001b[0mget_all_viz\u001b[0m\u001b[0;34m(\u001b[0m\u001b[0mdata\u001b[0m\u001b[0;34m)\u001b[0m\u001b[0;34m\u001b[0m\u001b[0m\n\u001b[1;32m      5\u001b[0m     \u001b[0mrecord\u001b[0m \u001b[0;34m=\u001b[0m \u001b[0mdb\u001b[0m\u001b[0;34m.\u001b[0m\u001b[0mdata_format\u001b[0m\u001b[0;34m(\u001b[0m\u001b[0mteam_name\u001b[0m\u001b[0;34m,\u001b[0m \u001b[0mdata\u001b[0m\u001b[0;34m[\u001b[0m\u001b[0;34m'total_matches'\u001b[0m\u001b[0;34m]\u001b[0m\u001b[0;34m,\u001b[0m \u001b[0mdata\u001b[0m\u001b[0;34m[\u001b[0m\u001b[0;34m'team_market_value'\u001b[0m\u001b[0;34m]\u001b[0m\u001b[0;34m,\u001b[0m \u001b[0mdata\u001b[0m\u001b[0;34m[\u001b[0m\u001b[0;34m'total_goals_2011'\u001b[0m\u001b[0;34m]\u001b[0m\u001b[0;34m,\u001b[0m \u001b[0mdata\u001b[0m\u001b[0;34m[\u001b[0m\u001b[0;34m'win_percentage'\u001b[0m\u001b[0;34m]\u001b[0m\u001b[0;34m,\u001b[0m \u001b[0mdata\u001b[0m\u001b[0;34m[\u001b[0m\u001b[0;34m'rain_win_percentage'\u001b[0m\u001b[0;34m]\u001b[0m\u001b[0;34m,\u001b[0m \u001b[0mall_viz\u001b[0m\u001b[0;34m)\u001b[0m\u001b[0;34m\u001b[0m\u001b[0m\n\u001b[0;32m----> 6\u001b[0;31m     \u001b[0mdb\u001b[0m\u001b[0;34m.\u001b[0m\u001b[0minsert_record\u001b[0m\u001b[0;34m(\u001b[0m\u001b[0mrecord\u001b[0m\u001b[0;34m)\u001b[0m\u001b[0;34m\u001b[0m\u001b[0m\n\u001b[0m\u001b[1;32m      7\u001b[0m \u001b[0;34m\u001b[0m\u001b[0m\n\u001b[1;32m      8\u001b[0m     \u001b[0;31m# delete viz object, so that a new one is created each time. Otherwise, it will just keep updating the first one instead\u001b[0m\u001b[0;34m\u001b[0m\u001b[0;34m\u001b[0m\u001b[0m\n",
      "\u001b[0;32m<ipython-input-463-f2c7a90e14d9>\u001b[0m in \u001b[0;36minsert_record\u001b[0;34m(self, record)\u001b[0m\n\u001b[1;32m     18\u001b[0m \u001b[0;34m\u001b[0m\u001b[0m\n\u001b[1;32m     19\u001b[0m     \u001b[0;32mdef\u001b[0m \u001b[0minsert_record\u001b[0m\u001b[0;34m(\u001b[0m\u001b[0mself\u001b[0m\u001b[0;34m,\u001b[0m \u001b[0mrecord\u001b[0m\u001b[0;34m)\u001b[0m\u001b[0;34m:\u001b[0m\u001b[0;34m\u001b[0m\u001b[0m\n\u001b[0;32m---> 20\u001b[0;31m         \u001b[0;32mreturn\u001b[0m \u001b[0mself\u001b[0m\u001b[0;34m.\u001b[0m\u001b[0mcoll\u001b[0m\u001b[0;34m.\u001b[0m\u001b[0minsert_one\u001b[0m\u001b[0;34m(\u001b[0m\u001b[0mdata\u001b[0m\u001b[0;34m)\u001b[0m\u001b[0;34m\u001b[0m\u001b[0m\n\u001b[0m",
      "\u001b[0;32m/anaconda3/envs/learn-env/lib/python3.6/site-packages/pymongo/collection.py\u001b[0m in \u001b[0;36minsert_one\u001b[0;34m(self, document, bypass_document_validation, session)\u001b[0m\n\u001b[1;32m    696\u001b[0m                          \u001b[0mwrite_concern\u001b[0m\u001b[0;34m=\u001b[0m\u001b[0mwrite_concern\u001b[0m\u001b[0;34m,\u001b[0m\u001b[0;34m\u001b[0m\u001b[0m\n\u001b[1;32m    697\u001b[0m                          \u001b[0mbypass_doc_val\u001b[0m\u001b[0;34m=\u001b[0m\u001b[0mbypass_document_validation\u001b[0m\u001b[0;34m,\u001b[0m\u001b[0;34m\u001b[0m\u001b[0m\n\u001b[0;32m--> 698\u001b[0;31m                          session=session),\n\u001b[0m\u001b[1;32m    699\u001b[0m             write_concern.acknowledged)\n\u001b[1;32m    700\u001b[0m \u001b[0;34m\u001b[0m\u001b[0m\n",
      "\u001b[0;32m/anaconda3/envs/learn-env/lib/python3.6/site-packages/pymongo/collection.py\u001b[0m in \u001b[0;36m_insert\u001b[0;34m(self, docs, ordered, check_keys, manipulate, write_concern, op_id, bypass_doc_val, session)\u001b[0m\n\u001b[1;32m    610\u001b[0m             return self._insert_one(\n\u001b[1;32m    611\u001b[0m                 \u001b[0mdocs\u001b[0m\u001b[0;34m,\u001b[0m \u001b[0mordered\u001b[0m\u001b[0;34m,\u001b[0m \u001b[0mcheck_keys\u001b[0m\u001b[0;34m,\u001b[0m \u001b[0mmanipulate\u001b[0m\u001b[0;34m,\u001b[0m \u001b[0mwrite_concern\u001b[0m\u001b[0;34m,\u001b[0m \u001b[0mop_id\u001b[0m\u001b[0;34m,\u001b[0m\u001b[0;34m\u001b[0m\u001b[0m\n\u001b[0;32m--> 612\u001b[0;31m                 bypass_doc_val, session)\n\u001b[0m\u001b[1;32m    613\u001b[0m \u001b[0;34m\u001b[0m\u001b[0m\n\u001b[1;32m    614\u001b[0m         \u001b[0mids\u001b[0m \u001b[0;34m=\u001b[0m \u001b[0;34m[\u001b[0m\u001b[0;34m]\u001b[0m\u001b[0;34m\u001b[0m\u001b[0m\n",
      "\u001b[0;32m/anaconda3/envs/learn-env/lib/python3.6/site-packages/pymongo/collection.py\u001b[0m in \u001b[0;36m_insert_one\u001b[0;34m(self, doc, ordered, check_keys, manipulate, write_concern, op_id, bypass_doc_val, session)\u001b[0m\n\u001b[1;32m    598\u001b[0m \u001b[0;34m\u001b[0m\u001b[0m\n\u001b[1;32m    599\u001b[0m         self.__database.client._retryable_write(\n\u001b[0;32m--> 600\u001b[0;31m             acknowledged, _insert_command, session)\n\u001b[0m\u001b[1;32m    601\u001b[0m \u001b[0;34m\u001b[0m\u001b[0m\n\u001b[1;32m    602\u001b[0m         \u001b[0;32mif\u001b[0m \u001b[0;32mnot\u001b[0m \u001b[0misinstance\u001b[0m\u001b[0;34m(\u001b[0m\u001b[0mdoc\u001b[0m\u001b[0;34m,\u001b[0m \u001b[0mRawBSONDocument\u001b[0m\u001b[0;34m)\u001b[0m\u001b[0;34m:\u001b[0m\u001b[0;34m\u001b[0m\u001b[0m\n",
      "\u001b[0;32m/anaconda3/envs/learn-env/lib/python3.6/site-packages/pymongo/mongo_client.py\u001b[0m in \u001b[0;36m_retryable_write\u001b[0;34m(self, retryable, func, session)\u001b[0m\n\u001b[1;32m   1490\u001b[0m         \u001b[0;34m\"\"\"Internal retryable write helper.\"\"\"\u001b[0m\u001b[0;34m\u001b[0m\u001b[0m\n\u001b[1;32m   1491\u001b[0m         \u001b[0;32mwith\u001b[0m \u001b[0mself\u001b[0m\u001b[0;34m.\u001b[0m\u001b[0m_tmp_session\u001b[0m\u001b[0;34m(\u001b[0m\u001b[0msession\u001b[0m\u001b[0;34m)\u001b[0m \u001b[0;32mas\u001b[0m \u001b[0ms\u001b[0m\u001b[0;34m:\u001b[0m\u001b[0;34m\u001b[0m\u001b[0m\n\u001b[0;32m-> 1492\u001b[0;31m             \u001b[0;32mreturn\u001b[0m \u001b[0mself\u001b[0m\u001b[0;34m.\u001b[0m\u001b[0m_retry_with_session\u001b[0m\u001b[0;34m(\u001b[0m\u001b[0mretryable\u001b[0m\u001b[0;34m,\u001b[0m \u001b[0mfunc\u001b[0m\u001b[0;34m,\u001b[0m \u001b[0ms\u001b[0m\u001b[0;34m,\u001b[0m \u001b[0;32mNone\u001b[0m\u001b[0;34m)\u001b[0m\u001b[0;34m\u001b[0m\u001b[0m\n\u001b[0m\u001b[1;32m   1493\u001b[0m \u001b[0;34m\u001b[0m\u001b[0m\n\u001b[1;32m   1494\u001b[0m     \u001b[0;32mdef\u001b[0m \u001b[0m_reset_server\u001b[0m\u001b[0;34m(\u001b[0m\u001b[0mself\u001b[0m\u001b[0;34m,\u001b[0m \u001b[0maddress\u001b[0m\u001b[0;34m)\u001b[0m\u001b[0;34m:\u001b[0m\u001b[0;34m\u001b[0m\u001b[0m\n",
      "\u001b[0;32m/anaconda3/envs/learn-env/lib/python3.6/site-packages/pymongo/mongo_client.py\u001b[0m in \u001b[0;36m_retry_with_session\u001b[0;34m(self, retryable, func, session, bulk)\u001b[0m\n\u001b[1;32m   1383\u001b[0m                             \u001b[0;32mraise\u001b[0m \u001b[0mlast_error\u001b[0m\u001b[0;34m\u001b[0m\u001b[0m\n\u001b[1;32m   1384\u001b[0m                         \u001b[0mretryable\u001b[0m \u001b[0;34m=\u001b[0m \u001b[0;32mFalse\u001b[0m\u001b[0;34m\u001b[0m\u001b[0m\n\u001b[0;32m-> 1385\u001b[0;31m                     \u001b[0;32mreturn\u001b[0m \u001b[0mfunc\u001b[0m\u001b[0;34m(\u001b[0m\u001b[0msession\u001b[0m\u001b[0;34m,\u001b[0m \u001b[0msock_info\u001b[0m\u001b[0;34m,\u001b[0m \u001b[0mretryable\u001b[0m\u001b[0;34m)\u001b[0m\u001b[0;34m\u001b[0m\u001b[0m\n\u001b[0m\u001b[1;32m   1386\u001b[0m             \u001b[0;32mexcept\u001b[0m \u001b[0mServerSelectionTimeoutError\u001b[0m\u001b[0;34m:\u001b[0m\u001b[0;34m\u001b[0m\u001b[0m\n\u001b[1;32m   1387\u001b[0m                 \u001b[0;32mif\u001b[0m \u001b[0mis_retrying\u001b[0m\u001b[0;34m(\u001b[0m\u001b[0;34m)\u001b[0m\u001b[0;34m:\u001b[0m\u001b[0;34m\u001b[0m\u001b[0m\n",
      "\u001b[0;32m/anaconda3/envs/learn-env/lib/python3.6/site-packages/pymongo/collection.py\u001b[0m in \u001b[0;36m_insert_command\u001b[0;34m(session, sock_info, retryable_write)\u001b[0m\n\u001b[1;32m    595\u001b[0m                 retryable_write=retryable_write)\n\u001b[1;32m    596\u001b[0m \u001b[0;34m\u001b[0m\u001b[0m\n\u001b[0;32m--> 597\u001b[0;31m             \u001b[0m_check_write_command_response\u001b[0m\u001b[0;34m(\u001b[0m\u001b[0mresult\u001b[0m\u001b[0;34m)\u001b[0m\u001b[0;34m\u001b[0m\u001b[0m\n\u001b[0m\u001b[1;32m    598\u001b[0m \u001b[0;34m\u001b[0m\u001b[0m\n\u001b[1;32m    599\u001b[0m         self.__database.client._retryable_write(\n",
      "\u001b[0;32m/anaconda3/envs/learn-env/lib/python3.6/site-packages/pymongo/helpers.py\u001b[0m in \u001b[0;36m_check_write_command_response\u001b[0;34m(result)\u001b[0m\n\u001b[1;32m    219\u001b[0m     \u001b[0mwrite_errors\u001b[0m \u001b[0;34m=\u001b[0m \u001b[0mresult\u001b[0m\u001b[0;34m.\u001b[0m\u001b[0mget\u001b[0m\u001b[0;34m(\u001b[0m\u001b[0;34m\"writeErrors\"\u001b[0m\u001b[0;34m)\u001b[0m\u001b[0;34m\u001b[0m\u001b[0m\n\u001b[1;32m    220\u001b[0m     \u001b[0;32mif\u001b[0m \u001b[0mwrite_errors\u001b[0m\u001b[0;34m:\u001b[0m\u001b[0;34m\u001b[0m\u001b[0m\n\u001b[0;32m--> 221\u001b[0;31m         \u001b[0m_raise_last_write_error\u001b[0m\u001b[0;34m(\u001b[0m\u001b[0mwrite_errors\u001b[0m\u001b[0;34m)\u001b[0m\u001b[0;34m\u001b[0m\u001b[0m\n\u001b[0m\u001b[1;32m    222\u001b[0m \u001b[0;34m\u001b[0m\u001b[0m\n\u001b[1;32m    223\u001b[0m     \u001b[0merror\u001b[0m \u001b[0;34m=\u001b[0m \u001b[0mresult\u001b[0m\u001b[0;34m.\u001b[0m\u001b[0mget\u001b[0m\u001b[0;34m(\u001b[0m\u001b[0;34m\"writeConcernError\"\u001b[0m\u001b[0;34m)\u001b[0m\u001b[0;34m\u001b[0m\u001b[0m\n",
      "\u001b[0;32m/anaconda3/envs/learn-env/lib/python3.6/site-packages/pymongo/helpers.py\u001b[0m in \u001b[0;36m_raise_last_write_error\u001b[0;34m(write_errors)\u001b[0m\n\u001b[1;32m    200\u001b[0m     \u001b[0merror\u001b[0m \u001b[0;34m=\u001b[0m \u001b[0mwrite_errors\u001b[0m\u001b[0;34m[\u001b[0m\u001b[0;34m-\u001b[0m\u001b[0;36m1\u001b[0m\u001b[0;34m]\u001b[0m\u001b[0;34m\u001b[0m\u001b[0m\n\u001b[1;32m    201\u001b[0m     \u001b[0;32mif\u001b[0m \u001b[0merror\u001b[0m\u001b[0;34m.\u001b[0m\u001b[0mget\u001b[0m\u001b[0;34m(\u001b[0m\u001b[0;34m\"code\"\u001b[0m\u001b[0;34m)\u001b[0m \u001b[0;34m==\u001b[0m \u001b[0;36m11000\u001b[0m\u001b[0;34m:\u001b[0m\u001b[0;34m\u001b[0m\u001b[0m\n\u001b[0;32m--> 202\u001b[0;31m         \u001b[0;32mraise\u001b[0m \u001b[0mDuplicateKeyError\u001b[0m\u001b[0;34m(\u001b[0m\u001b[0merror\u001b[0m\u001b[0;34m.\u001b[0m\u001b[0mget\u001b[0m\u001b[0;34m(\u001b[0m\u001b[0;34m\"errmsg\"\u001b[0m\u001b[0;34m)\u001b[0m\u001b[0;34m,\u001b[0m \u001b[0;36m11000\u001b[0m\u001b[0;34m,\u001b[0m \u001b[0merror\u001b[0m\u001b[0;34m)\u001b[0m\u001b[0;34m\u001b[0m\u001b[0m\n\u001b[0m\u001b[1;32m    203\u001b[0m     \u001b[0;32mraise\u001b[0m \u001b[0mWriteError\u001b[0m\u001b[0;34m(\u001b[0m\u001b[0merror\u001b[0m\u001b[0;34m.\u001b[0m\u001b[0mget\u001b[0m\u001b[0;34m(\u001b[0m\u001b[0;34m\"errmsg\"\u001b[0m\u001b[0;34m)\u001b[0m\u001b[0;34m,\u001b[0m \u001b[0merror\u001b[0m\u001b[0;34m.\u001b[0m\u001b[0mget\u001b[0m\u001b[0;34m(\u001b[0m\u001b[0;34m\"code\"\u001b[0m\u001b[0;34m)\u001b[0m\u001b[0;34m,\u001b[0m \u001b[0merror\u001b[0m\u001b[0;34m)\u001b[0m\u001b[0;34m\u001b[0m\u001b[0m\n\u001b[1;32m    204\u001b[0m \u001b[0;34m\u001b[0m\u001b[0m\n",
      "\u001b[0;31mDuplicateKeyError\u001b[0m: E11000 duplicate key error collection: summative_lab.summative_collection index: _id_ dup key: { : ObjectId('5ddf5ae32c15e70784b65fe7') }"
     ]
    },
    {
     "data": {
      "image/png": "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\n",
      "text/plain": [
       "<Figure size 432x288 with 1 Axes>"
      ]
     },
     "metadata": {
      "needs_background": "light"
     },
     "output_type": "display_data"
    }
   ],
   "source": [
    "db = MongodbHandler()\n",
    "\n",
    "for team_name, data in team_data.items():    \n",
    "    all_viz = get_all_viz(data)\n",
    "    record = db.data_format(team_name, data['total_matches'], data['team_market_value'], data['total_goals_2011'], data['win_percentage'], data['rain_win_percentage'], all_viz)\n",
    "    db.insert_record(record)\n",
    "    \n",
    "    # delete viz object, so that a new one is created each time. Otherwise, it will just keep updating the first one instead\n",
    "    # of creating new correct visualizations\n",
    "    del(all_viz)"
   ]
  },
  {
   "cell_type": "markdown",
   "metadata": {},
   "source": [
    "# Summary\n",
    "\n",
    "In this lab, we dug deep and used everything we've learned so far about python programming, databases, HTTP requests and API calls to ETL data from a SQL database into a MongoDB instance!"
   ]
  }
 ],
 "metadata": {
  "kernelspec": {
   "display_name": "Python 3",
   "language": "python",
   "name": "python3"
  },
  "language_info": {
   "codemirror_mode": {
    "name": "ipython",
    "version": 3
   },
   "file_extension": ".py",
   "mimetype": "text/x-python",
   "name": "python",
   "nbconvert_exporter": "python",
   "pygments_lexer": "ipython3",
   "version": "3.6.6"
  }
 },
 "nbformat": 4,
 "nbformat_minor": 2
}
