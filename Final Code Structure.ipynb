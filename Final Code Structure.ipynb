{
 "cells": [
  {
   "cell_type": "markdown",
   "metadata": {},
   "source": [
    "# Import Necessary Libraries"
   ]
  },
  {
   "cell_type": "code",
   "execution_count": null,
   "metadata": {},
   "outputs": [],
   "source": [
    "import json\n",
    "import requests\n",
    "import sqlite3\n",
    "import pandas as pd\n",
    "import numpy as np\n",
    "import pymongo\n",
    "import datetime"
   ]
  },
  {
   "cell_type": "code",
   "execution_count": null,
   "metadata": {},
   "outputs": [],
   "source": [
    "#Provide Api Key Code\n",
    "def get_keys(path):\n",
    "    with open(path) as f:\n",
    "        return json.load(f)\n",
    "keys = get_keys(\"/Users/Lucas/.secret/API/darksky_api.json\")\n",
    "api_key = keys['api_key']"
   ]
  },
  {
   "cell_type": "markdown",
   "metadata": {},
   "source": [
    "# Import Weather Data"
   ]
  },
  {
   "cell_type": "code",
   "execution_count": null,
   "metadata": {},
   "outputs": [],
   "source": [
    "class WeatherGetter(object):\n",
    "    def __init__(self):\n",
    "        self.secret_key = keys['api_key']\n",
    "        self.berlin_lat = \"52.5200\"\n",
    "        self.berlin_long = \"13.4050\"\n",
    "        self.url_base = \"https://api.darksky.net/forecast\"\n",
    "        self.exclude = 'currently,flags,minutely,hourly,alerts'\n",
    "        \n",
    "    def get_weather_forcast(self, datetime_string):\n",
    "        year, month, day = self.format_datetime(datetime_string)\n",
    "        \n",
    "        datetime = \"{}-{}-{}T12:00:00\".format(year, month, day)\n",
    "        full_url = \"{}/{}/{},{},{}?exclude={}\".format(self.url_base, self.secret_key, \n",
    "                                                     self.berlin_lat, self.berlin_long, \n",
    "                                                     datetime, self.exclude)\n",
    "        response = requests.get(full_url)\n",
    "        if response.status_code == 200: \n",
    "            print(response.status_code)\n",
    "        else:\n",
    "            print('Error: The API call failed')\n",
    "        return response\n",
    "\n",
    "    def get_rain(self, response):\n",
    "        data = json.loads(response.text)\n",
    "        daily = data['daily']\n",
    "        data =  daily['data']\n",
    "        data = data[0]\n",
    "        try:\n",
    "            if data['icon'] == 'rain':\n",
    "                print(data['icon'])\n",
    "                return True\n",
    "            else: \n",
    "                print(data['icon'])\n",
    "                return False\n",
    "        except KeyError:\n",
    "            print('no rain')\n",
    "            return False\n",
    "            \n",
    "    def format_datetime(self,datetime_string):\n",
    "        year = datetime_string[:4]\n",
    "        month = datetime_string[5:7]\n",
    "        day = datetime_string[8:]\n",
    "        \n",
    "        return year, month, day\n",
    "    \n",
    "    def was_raining(self, datetime_string):\n",
    "        response = self.get_weather_forcast(datetime_string)\n",
    "        itrain = self.get_rain(response)\n",
    "        return itrain\n",
    "    \n",
    "    def all_weather(self, date_list):\n",
    "        weather = {}\n",
    "        \n",
    "        for date in date_list:\n",
    "            weather[date] = self.was_raining(date)\n",
    "        return weather"
   ]
  },
  {
   "cell_type": "code",
   "execution_count": null,
   "metadata": {},
   "outputs": [],
   "source": [
    "#test Function\n",
    "\n",
    "wth = WeatherGetter()\n",
    "wth.get_weather_forcast('2011-07-15')"
   ]
  },
  {
   "cell_type": "markdown",
   "metadata": {},
   "source": [
    "# Import and Structure Data from Kaggle"
   ]
  },
  {
   "cell_type": "code",
   "execution_count": null,
   "metadata": {},
   "outputs": [],
   "source": [
    "conn = sqlite3.connect('''database.sqlite''')\n",
    "c = conn.cursor()\n",
    "\n",
    "#get Match Data\n",
    "c.execute(\"\"\"SELECT * from matches where season = 2011 ORDER BY Date ASC\"\"\")\n",
    "full_data = pd.DataFrame(c.fetchall())\n",
    "full_data.columns = [i[0] for i in c.description]\n",
    "full_data.head()"
   ]
  },
  {
   "cell_type": "code",
   "execution_count": null,
   "metadata": {},
   "outputs": [],
   "source": [
    "#Get Team Values\n",
    "c.execute(\"\"\"SELECT * from teams where season = 2011\"\"\")\n",
    "teams = pd.DataFrame(c.fetchall())\n",
    "teams.columns = [i[0] for i in c.description]\n",
    "teams.head()"
   ]
  },
  {
   "cell_type": "code",
   "execution_count": null,
   "metadata": {
    "scrolled": false
   },
   "outputs": [],
   "source": [
    "#Get forecast for game dates \n",
    "date_list = list(full_data.Date.unique())\n",
    "forecast = wth.all_weather(date_list)\n",
    "rain = []\n",
    "for date in full_data.Date:\n",
    "    rain.append(forecast[date])"
   ]
  },
  {
   "cell_type": "code",
   "execution_count": null,
   "metadata": {
    "scrolled": false
   },
   "outputs": [],
   "source": [
    "full_data['Rain'] = rain\n",
    "full_data.head()"
   ]
  },
  {
   "cell_type": "code",
   "execution_count": null,
   "metadata": {},
   "outputs": [],
   "source": [
    "# Get List of Teams\n",
    "unique_teams = full_data['HomeTeam'].unique()"
   ]
  },
  {
   "cell_type": "code",
   "execution_count": null,
   "metadata": {},
   "outputs": [],
   "source": [
    "#Prepare Data for Mongo Database\n",
    "def team_record(team_names):\n",
    "    team_data = {}\n",
    "    for team in unique_teams:\n",
    "        data = {'total_matches': int(len(full_data.query(\"HomeTeam == @team or AwayTeam == @team\"))) , \n",
    "                'total_wins_2011': int(len(full_data.query(\"(HomeTeam == @team & FTR == 'H') | (AwayTeam == @team & FTR == 'A')\"))),\n",
    "                'total_losses_2011': int(len(full_data.query(\"(HomeTeam == @team & FTR != 'H')|(AwayTeam == @team & FTR != 'A')\"))),\n",
    "                'total_rain_games_2011': int(len(full_data.query(\"(HomeTeam == @team or AwayTeam == @team) & (Rain == True)\"))),\n",
    "                'rain_wins_2011': int(len(full_data.query(\"(HomeTeam == @team & FTR == 'H' & Rain == True) | (AwayTeam == @team & FTR == 'A' & Rain == True)\"))),\n",
    "                'rain_losses_2011': int(len(full_data.query(\"(HomeTeam == @team & FTR != 'H' & Rain == True) | (AwayTeam == @team & FTR != 'A' & Rain == True)\"))),\n",
    "                'total_goals_2011': int(full_data.query(\"HomeTeam == @team\")['FTHG'].sum() + full_data.query(\"AwayTeam == @team\")['FTAG'].sum())}\n",
    "        team_data[team] = data\n",
    "    \n",
    "    for team in unique_teams:\n",
    "        team_data[team]['win_percentage'] = round(team_data[team]['total_wins_2011']/(team_data[team]['total_wins_2011']+team_data[team]['total_losses_2011']),2)\n",
    "        team_data[team]['rain_win_percentage'] = round(team_data[team]['rain_wins_2011']/(team_data[team]['rain_wins_2011']+team_data[team]['rain_losses_2011']),2)\n",
    "    for team in unique_teams:\n",
    "        try:\n",
    "            team_data[team]['team_market_value'] = int(teams.query(\"TeamName == @team\")['OverallMarketValueHome'].values)\n",
    "        except:\n",
    "            team_data[team]['team_market_value'] = 'NaN'\n",
    "    \n",
    "    return team_data"
   ]
  },
  {
   "cell_type": "code",
   "execution_count": null,
   "metadata": {},
   "outputs": [],
   "source": [
    "team_data = team_record(unique_teams)\n",
    "team_data"
   ]
  },
  {
   "cell_type": "markdown",
   "metadata": {},
   "source": [
    "# Initiate Mongo Server"
   ]
  },
  {
   "cell_type": "code",
   "execution_count": null,
   "metadata": {},
   "outputs": [],
   "source": [
    "class MongodbHandler(object):\n",
    "    \n",
    "    def __init__(self):\n",
    "        self.myclient = pymongo.MongoClient('mongodb://127.0.0.1:27017/')\n",
    "        self.db = self.myclient['summative_lab']\n",
    "        self.coll = self.db['summative_collection']\n",
    "    \n",
    "    def data_format(self, team_name, market_value, total_games, total_goals, win_percentage, rain_win_percentage, all_viz):\n",
    "        data = {\"team_name\": team_name,\n",
    "                \"Market_Value\": market_value,\n",
    "                \"games_playes_2011\": total_games,\n",
    "                \"goals_2011\": total_goals,\n",
    "                \"win_percentage_2011\": win_percentage,\n",
    "                \"rain_win_percentage_2011\": rain_win_percentage,\n",
    "                \"win_rate_histo\": all_viz}\n",
    "        return data\n",
    "    \n",
    "    def insert_record(self, record):\n",
    "        return self.coll.insert_one(data)"
   ]
  },
  {
   "cell_type": "markdown",
   "metadata": {},
   "source": [
    "# Get Visualization"
   ]
  },
  {
   "cell_type": "code",
   "execution_count": null,
   "metadata": {},
   "outputs": [],
   "source": [
    "import matplotlib.pyplot as plt\n",
    "%matplotlib inline\n",
    "\n",
    "def get_all_viz(team, show_viz=False):\n",
    "    wins_value_all = team['total_wins_2011']\n",
    "    losses_value_all = team['total_losses_2011']\n",
    "    x_all = ['wins','losses']\n",
    "    y_all = [wins_value_all,losses_value_all]\n",
    "    bar_all = plt.bar(x_all,y_all)\n",
    "    return bar_all\n",
    "\n",
    "# def get_rain_viz(team, show_viz=False):    \n",
    "#     wins_value_rain = team['rain_wins_2011']\n",
    "#     losses_value_rain = team['rain_losses_2011']\n",
    "#     x_rain = ['wins','losses']\n",
    "#     y_rain = [wins_value_rain,losses_value_rain]\n",
    "#     bar_rain = plt.bar(x_rain,y_rain)\n",
    "#     return bar_rain\n",
    "print(get_all_viz(team_data['Nurnberg']))"
   ]
  },
  {
   "cell_type": "markdown",
   "metadata": {},
   "source": [
    "# Upload to Mongo"
   ]
  },
  {
   "cell_type": "code",
   "execution_count": null,
   "metadata": {
    "scrolled": true
   },
   "outputs": [],
   "source": [
    "db = MongodbHandler()\n",
    "\n",
    "for team_name, data in team_data.items():    \n",
    "    all_viz = get_all_viz(data)\n",
    "    record = db.data_format(data['team_name'], data['total_matches'], data['team_market_value'], data['total_goals_2011'], data['win_percentage'], data['rain_win_percentage'], all_viz)\n",
    "    db.insert_record(record)\n",
    "    del(all_viz)"
   ]
  },
  {
   "cell_type": "markdown",
   "metadata": {},
   "source": [
    "## Inspect Upload"
   ]
  },
  {
   "cell_type": "code",
   "execution_count": null,
   "metadata": {},
   "outputs": [],
   "source": [
    "myclient = pymongo.MongoClient('mongodb://127.0.0.1:27017/')\n",
    "wg = myclient['summative_lab']\n",
    "coll = wg['summative_collection']"
   ]
  },
  {
   "cell_type": "code",
   "execution_count": null,
   "metadata": {},
   "outputs": [],
   "source": [
    "query_1 = coll.find({})\n",
    "for x in query_1:\n",
    "    print(x)"
   ]
  },
  {
   "cell_type": "code",
   "execution_count": null,
   "metadata": {},
   "outputs": [],
   "source": []
  },
  {
   "cell_type": "code",
   "execution_count": null,
   "metadata": {},
   "outputs": [],
   "source": []
  }
 ],
 "metadata": {
  "kernelspec": {
   "display_name": "Python [conda env:learn-env] *",
   "language": "python",
   "name": "conda-env-learn-env-py"
  },
  "language_info": {
   "codemirror_mode": {
    "name": "ipython",
    "version": 3
   },
   "file_extension": ".py",
   "mimetype": "text/x-python",
   "name": "python",
   "nbconvert_exporter": "python",
   "pygments_lexer": "ipython3",
   "version": "3.6.6"
  }
 },
 "nbformat": 4,
 "nbformat_minor": 2
}
